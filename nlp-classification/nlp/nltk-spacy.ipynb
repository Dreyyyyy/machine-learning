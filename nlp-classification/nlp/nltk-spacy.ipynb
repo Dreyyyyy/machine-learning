{
 "cells": [
  {
   "cell_type": "markdown",
   "metadata": {},
   "source": [
    "# Spacy is object oriented."
   ]
  },
  {
   "cell_type": "code",
   "execution_count": 1,
   "metadata": {},
   "outputs": [],
   "source": [
    "import spacy"
   ]
  },
  {
   "cell_type": "code",
   "execution_count": 2,
   "metadata": {},
   "outputs": [
    {
     "name": "stdout",
     "output_type": "stream",
     "text": [
      "The quick brown fox jumps over the lazy dog.\n",
      "The sun sets in the west, casting a golden glow over the horizon.\n"
     ]
    }
   ],
   "source": [
    "nlp = spacy.load('en_core_web_sm')\n",
    "\n",
    "phrase = nlp(\"The quick brown fox jumps over the lazy dog. The sun sets in the west, casting a golden glow over the horizon.\")\n",
    "\n",
    "for sentence in phrase.sents:\n",
    "    print(sentence)"
   ]
  },
  {
   "cell_type": "code",
   "execution_count": 3,
   "metadata": {},
   "outputs": [
    {
     "name": "stdout",
     "output_type": "stream",
     "text": [
      "The\n",
      "quick\n",
      "brown\n",
      "fox\n",
      "jumps\n",
      "over\n",
      "the\n",
      "lazy\n",
      "dog\n",
      ".\n",
      "The\n",
      "sun\n",
      "sets\n",
      "in\n",
      "the\n",
      "west\n",
      ",\n",
      "casting\n",
      "a\n",
      "golden\n",
      "glow\n",
      "over\n",
      "the\n",
      "horizon\n",
      ".\n"
     ]
    }
   ],
   "source": [
    "phrase = nlp(\"The quick brown fox jumps over the lazy dog. The sun sets in the west, casting a golden glow over the horizon.\")\n",
    "\n",
    "for sentence in phrase.sents:\n",
    "    for words in sentence:\n",
    "        print(words)"
   ]
  },
  {
   "cell_type": "markdown",
   "metadata": {},
   "source": [
    "# NLTK is a string processing library"
   ]
  },
  {
   "cell_type": "code",
   "execution_count": 18,
   "metadata": {},
   "outputs": [
    {
     "name": "stderr",
     "output_type": "stream",
     "text": [
      "[nltk_data] Downloading package punkt to /home/shuruyi/nltk_data...\n",
      "[nltk_data]   Package punkt is already up-to-date!\n"
     ]
    },
    {
     "data": {
      "text/plain": [
       "True"
      ]
     },
     "execution_count": 18,
     "metadata": {},
     "output_type": "execute_result"
    }
   ],
   "source": [
    "import nltk\n",
    "from nltk.tokenize import sent_tokenize\n",
    "\n",
    "nltk.download(\"punkt\")"
   ]
  },
  {
   "cell_type": "code",
   "execution_count": 12,
   "metadata": {},
   "outputs": [
    {
     "data": {
      "text/plain": [
       "['The quick B.',\n",
       " 'Fox jumps over the lazy dog.',\n",
       " 'The sun sets in the west, casting a golden glow over the horizon.']"
      ]
     },
     "execution_count": 12,
     "metadata": {},
     "output_type": "execute_result"
    }
   ],
   "source": [
    "phrase = \"The quick B. Fox jumps over the lazy dog. The sun sets in the west, casting a golden glow over the horizon.\"\n",
    "sent_tokenize(phrase)"
   ]
  },
  {
   "cell_type": "code",
   "execution_count": 17,
   "metadata": {},
   "outputs": [
    {
     "data": {
      "text/plain": [
       "['The',\n",
       " 'quick',\n",
       " 'B',\n",
       " '.',\n",
       " 'Fox',\n",
       " 'jumps',\n",
       " 'over',\n",
       " 'the',\n",
       " 'lazy',\n",
       " 'dog',\n",
       " '.',\n",
       " 'The',\n",
       " 'sun',\n",
       " 'sets',\n",
       " 'in',\n",
       " 'the',\n",
       " 'west',\n",
       " ',',\n",
       " 'casting',\n",
       " 'a',\n",
       " 'golden',\n",
       " 'glow',\n",
       " 'over',\n",
       " 'the',\n",
       " 'horizon',\n",
       " '.']"
      ]
     },
     "execution_count": 17,
     "metadata": {},
     "output_type": "execute_result"
    }
   ],
   "source": [
    "from nltk.tokenize import word_tokenize\n",
    "\n",
    "word_tokenize(phrase)"
   ]
  }
 ],
 "metadata": {
  "kernelspec": {
   "display_name": ".venv",
   "language": "python",
   "name": "python3"
  },
  "language_info": {
   "codemirror_mode": {
    "name": "ipython",
    "version": 3
   },
   "file_extension": ".py",
   "mimetype": "text/x-python",
   "name": "python",
   "nbconvert_exporter": "python",
   "pygments_lexer": "ipython3",
   "version": "3.11.8"
  }
 },
 "nbformat": 4,
 "nbformat_minor": 2
}
