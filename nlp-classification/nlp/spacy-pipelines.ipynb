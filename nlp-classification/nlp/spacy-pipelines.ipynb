{
 "cells": [
  {
   "cell_type": "markdown",
   "metadata": {},
   "source": [
    "# Spacy Pipelines"
   ]
  },
  {
   "cell_type": "code",
   "execution_count": 1,
   "metadata": {},
   "outputs": [],
   "source": [
    "import spacy"
   ]
  },
  {
   "cell_type": "code",
   "execution_count": 3,
   "metadata": {},
   "outputs": [],
   "source": [
    "nlp =spacy.load(\"en_core_web_sm\")"
   ]
  },
  {
   "cell_type": "code",
   "execution_count": 4,
   "metadata": {},
   "outputs": [
    {
     "name": "stdout",
     "output_type": "stream",
     "text": [
      "The DET the\n",
      "quick ADJ quick\n",
      "brown ADJ brown\n",
      "fox NOUN fox\n",
      "jumps VERB jump\n",
      "over ADP over\n",
      "the DET the\n",
      "lazy ADJ lazy\n",
      "dog NOUN dog\n",
      ". PUNCT .\n",
      "This PRON this\n",
      "is AUX be\n",
      "a DET a\n",
      "test NOUN test\n",
      "paragraph NOUN paragraph\n",
      "for ADP for\n",
      "spaCy PROPN spaCy\n",
      "library NOUN library\n",
      ". PUNCT .\n",
      "It PRON it\n",
      "analyzes VERB analyze\n",
      "text NOUN text\n",
      "for ADP for\n",
      "various ADJ various\n",
      "NLP NOUN nlp\n",
      "tasks NOUN task\n",
      ". PUNCT .\n"
     ]
    }
   ],
   "source": [
    "random_paragraph = \"The quick brown fox jumps over the lazy dog. This is a test paragraph for spaCy library. It analyzes text for various NLP tasks.\"\n",
    "\n",
    "doc = nlp(random_paragraph)\n",
    "\n",
    "for token in doc:\n",
    "    print(f\"{token.text} {token.pos_} {token.lemma_}\")"
   ]
  },
  {
   "cell_type": "code",
   "execution_count": 5,
   "metadata": {},
   "outputs": [
    {
     "name": "stdout",
     "output_type": "stream",
     "text": [
      "$10 million  |  MONEY  |  Monetary values, including unit\n"
     ]
    }
   ],
   "source": [
    "sentence = \"A successful acquisition deal brought the enterprise $10 million in revenue, securing its financial future.\"\n",
    "\n",
    "doc = nlp(sentence)\n",
    "\n",
    "for ent in doc.ents:\n",
    "    print(ent.text, \" | \", ent.label_, \" | \", spacy.explain(ent.label_))"
   ]
  }
 ],
 "metadata": {
  "kernelspec": {
   "display_name": ".venv",
   "language": "python",
   "name": "python3"
  },
  "language_info": {
   "codemirror_mode": {
    "name": "ipython",
    "version": 3
   },
   "file_extension": ".py",
   "mimetype": "text/x-python",
   "name": "python",
   "nbconvert_exporter": "python",
   "pygments_lexer": "ipython3",
   "version": "3.11.8"
  }
 },
 "nbformat": 4,
 "nbformat_minor": 2
}
