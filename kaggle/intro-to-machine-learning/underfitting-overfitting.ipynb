{
 "cells": [
  {
   "cell_type": "code",
   "execution_count": 15,
   "id": "e0077509",
   "metadata": {},
   "outputs": [],
   "source": [
    "from sklearn.metrics import mean_absolute_error\n",
    "from sklearn.tree import DecisionTreeRegressor\n",
    "\n",
    "def get_mae(max_leaf_nodes, train_X, val_X, train_y, val_y):\n",
    "    \"\"\"\n",
    "    This function get the MAE (Mean Absolute Error) based on the\n",
    "    max_leaf_nodes parameters from DecisionTreeRegressor algorithm.\n",
    "    \"\"\"\n",
    "    model = DecisionTreeRegressor(max_leaf_nodes=max_leaf_nodes,\n",
    "                                  random_state=0)\n",
    "    model.fit(train_X, train_y)\n",
    "    preds_val = model.predict(val_X)\n",
    "    mae = mean_absolute_error(val_y, preds_val)\n",
    "    return(mae)"
   ]
  },
  {
   "cell_type": "code",
   "execution_count": 3,
   "id": "12c59e4f",
   "metadata": {},
   "outputs": [],
   "source": [
    "import pandas as pd\n",
    "\n",
    "# importing the dataset from  csv to DataFrame format\n",
    "melbourne_file_path = '../intro-to-machine-learning/data/melb_data.csv'\n",
    "melbourne_data  = pd.read_csv(melbourne_file_path)\n",
    "# removing missing values and creating a array with dataset features names \n",
    "filtered_melbourne_data = melbourne_data.dropna(axis=0)\n",
    "melbourne_features = ['Rooms', 'Bathroom', 'Landsize', \n",
    "                      'BuildingArea', 'YearBuilt', 'Lattitude', 'Longtitude']\n",
    "# X = features, y = target\n",
    "X = filtered_melbourne_data[melbourne_features]\n",
    "y = filtered_melbourne_data.Price\n",
    "\n",
    "from sklearn.model_selection import train_test_split\n",
    "# splitting the dataset into train and validation\n",
    "train_X, val_X, train_y, val_y = train_test_split(X,\n",
    "                                                  y,\n",
    "                                                  random_state = 0)"
   ]
  },
  {
   "cell_type": "code",
   "execution_count": 14,
   "id": "cb56a366",
   "metadata": {},
   "outputs": [
    {
     "name": "stdout",
     "output_type": "stream",
     "text": [
      "Max leaf nodes: 5 \t\t MAE: 347380\n",
      "Max leaf nodes: 50 \t\t MAE: 258171\n",
      "Max leaf nodes: 500 \t\t MAE: 243496\n",
      "Max leaf nodes: 5000 \t\t MAE: 255575\n"
     ]
    }
   ],
   "source": [
    "# loop for comparing MAE with different values of max_leaf_nodes\n",
    "for max_leaf_nodes in [5, 50, 500, 5000]:\n",
    "    my_mae = get_mae(max_leaf_nodes, train_X, val_X, train_y, val_y)\n",
    "    print(f'Max leaf nodes: {max_leaf_nodes} \\t\\t MAE: {my_mae:.0f}')"
   ]
  },
  {
   "cell_type": "code",
   "execution_count": null,
   "id": "719882fb",
   "metadata": {},
   "outputs": [],
   "source": []
  }
 ],
 "metadata": {
  "kernelspec": {
   "display_name": "Python 3 (ipykernel)",
   "language": "python",
   "name": "python3"
  },
  "language_info": {
   "codemirror_mode": {
    "name": "ipython",
    "version": 3
   },
   "file_extension": ".py",
   "mimetype": "text/x-python",
   "name": "python",
   "nbconvert_exporter": "python",
   "pygments_lexer": "ipython3",
   "version": "3.11.3"
  }
 },
 "nbformat": 4,
 "nbformat_minor": 5
}
