{
 "cells": [
  {
   "cell_type": "markdown",
   "id": "7d11bb2e",
   "metadata": {
    "papermill": {
     "duration": 0.011233,
     "end_time": "2023-08-22T12:41:25.937552",
     "exception": false,
     "start_time": "2023-08-22T12:41:25.926319",
     "status": "completed"
    },
    "tags": []
   },
   "source": [
    "# Spaceship Titanic with SVM\n",
    "\n",
    "# Summary\n",
    "* About the dataset;\n",
    "* Evaluation;\n",
    "* Importing libraries;\n",
    "* EDA;\n",
    "* Feature engineering;\n",
    "* Building models;\n",
    "* Results.\n",
    "\n",
    "# About the dataset\n",
    "\n",
    "Spaceship Titanic is a competition heavly inspired on the original Titanic shipwreck, but more sci-fi themed. The objective of this notebook is trying to find the best model that fits the evaluation metric for the problem (Accuracy), trying to predict whether a passenger was transported to an alternate dimension during the Spaceship Titanic's collision with the spacetime anomaly.\n",
    "\n",
    "## File anda Data Field Descriptions\n",
    "train.csv - Personal records for about two-thirds (~8700) of the passengers, to be used as training data.\n",
    "\n",
    "| Variable     | Description                                                               |\n",
    "| ------------ | ------------------------------------------------------------------------- |\n",
    "| PassengerId  | A unique Id for each passenger. Each Id takes the form gggg_pp where gggg indicates a group the passenger is travelling with and pp is their number within the group. People in a group are often family members, but not always. |\n",
    "| HomePlanet   | The planet the passenger departed from, typically their planet of permanent residence. |\n",
    "| CryoSleep    |  Indicates whether the passenger elected to be put into suspended animation for the duration of the voyage. Passengers in cryosleep are confined to their cabins. |\n",
    "| Cabin        | The cabin number where the passenger is staying. Takes the form deck/num/side, where side can be either P for Port or S for Starboard. |\n",
    "| Destination  | The planet the passenger will be debarking to. |\n",
    "| Age          | The age of the passenger. |\n",
    "| VIP          | Whether the passenger has paid for special VIP service during the voyage. |\n",
    "| RoomService  | Amount the passenger has billed at each of the Spaceship Titanic's many luxury amenities. |\n",
    "| FoodCourt    | Amount the passenger has billed at each of the Spaceship Titanic's many luxury amenities. |\n",
    "| ShoppingMall | Amount the passenger has billed at each of the Spaceship Titanic's many luxury amenities. |\n",
    "| Spa          | Amount the passenger has billed at each of the Spaceship Titanic's many luxury amenities. |\n",
    "| VRDeck       | Amount the passenger has billed at each of the Spaceship Titanic's many luxury amenities. |\n",
    "| Name         | The first and last names of the passenger. |\n",
    "| Transported  | Whether the passenger was transported to another dimension. This is the target, the column you are trying to predict. |\n",
    "\n",
    "test.csv - Personal records for the remaining one-third (~4300) of the passengers, to be used as test data. Your task is to predict the value of Transported for the passengers in this set.\n",
    "\n",
    "sample_submission.csv - A submission file in the correct format.\n",
    "PassengerId - Id for each passenger in the test set.\n",
    "Transported - The target. For each passenger, predict either True or False.\n",
    "\n",
    "# Evaluation\n",
    "Submissions are evaluated based on their classification accuracy, the percentage of predicted labels that are correct. More about the classification metric can be found here: https://developers.google.com/machine-learning/crash-course/classification/accuracy"
   ]
  },
  {
   "cell_type": "markdown",
   "id": "ffe9379a",
   "metadata": {
    "papermill": {
     "duration": 0.008245,
     "end_time": "2023-08-22T12:41:25.954603",
     "exception": false,
     "start_time": "2023-08-22T12:41:25.946358",
     "status": "completed"
    },
    "tags": []
   },
   "source": [
    "# Importing libraries\n",
    "All the libraries used in this notebook will be imported in the cell below"
   ]
  },
  {
   "cell_type": "code",
   "execution_count": 1,
   "id": "f78849ce",
   "metadata": {
    "_cell_guid": "b1076dfc-b9ad-4769-8c92-a6c4dae69d19",
    "_uuid": "8f2839f25d086af736a60e9eeb907d3b93b6e0e5",
    "execution": {
     "iopub.execute_input": "2023-08-22T12:41:25.974603Z",
     "iopub.status.busy": "2023-08-22T12:41:25.973416Z",
     "iopub.status.idle": "2023-08-22T12:41:28.470768Z",
     "shell.execute_reply": "2023-08-22T12:41:28.469251Z"
    },
    "papermill": {
     "duration": 2.510473,
     "end_time": "2023-08-22T12:41:28.473817",
     "exception": false,
     "start_time": "2023-08-22T12:41:25.963344",
     "status": "completed"
    },
    "tags": []
   },
   "outputs": [
    {
     "name": "stderr",
     "output_type": "stream",
     "text": [
      "/opt/conda/lib/python3.10/site-packages/scipy/__init__.py:146: UserWarning: A NumPy version >=1.16.5 and <1.23.0 is required for this version of SciPy (detected version 1.23.5\n",
      "  warnings.warn(f\"A NumPy version >={np_minversion} and <{np_maxversion}\"\n"
     ]
    },
    {
     "name": "stdout",
     "output_type": "stream",
     "text": [
      "/kaggle/input/spaceship-titanic/sample_submission.csv\n",
      "/kaggle/input/spaceship-titanic/train.csv\n",
      "/kaggle/input/spaceship-titanic/test.csv\n"
     ]
    }
   ],
   "source": [
    "import numpy as np # linear algebra\n",
    "import pandas as pd # data processing, CSV file I/O (e.g. pd.read_csv)\n",
    "import matplotlib.pyplot as plt # plot graphs\n",
    "import seaborn as sns # better visualization for graphs\n",
    "from sklearn.compose import ColumnTransformer # libraries for select columns and apply transformers\n",
    "from sklearn.pipeline import Pipeline # pipeline for preprocessing\n",
    "from sklearn.impute import SimpleImputer # input NaN values\n",
    "from sklearn.preprocessing import OneHotEncoder # transform categorical variables in numerical\n",
    "from sklearn.model_selection import train_test_split # split data into train and test set\n",
    "from sklearn.metrics import accuracy_score # evaluation metric\n",
    "from sklearn.ensemble import RandomForestClassifier\n",
    "from sklearn.linear_model import LogisticRegression\n",
    "from sklearn.svm import SVC\n",
    "from sklearn.neighbors import KNeighborsClassifier\n",
    "from xgboost import XGBClassifier\n",
    "from sklearn.model_selection import RandomizedSearchCV # hyperparameter tunning\n",
    "\n",
    "import os\n",
    "for dirname, _, filenames in os.walk('/kaggle/input'):\n",
    "    for filename in filenames:\n",
    "        print(os.path.join(dirname, filename))"
   ]
  },
  {
   "cell_type": "markdown",
   "id": "0908b527",
   "metadata": {
    "papermill": {
     "duration": 0.008621,
     "end_time": "2023-08-22T12:41:28.491781",
     "exception": false,
     "start_time": "2023-08-22T12:41:28.483160",
     "status": "completed"
    },
    "tags": []
   },
   "source": [
    "# EDA\n",
    "Now, I'll try to find any useful information, pattern or insight from the dataset, starting by importing it and separating categorical and numerical data"
   ]
  },
  {
   "cell_type": "code",
   "execution_count": 2,
   "id": "e7368180",
   "metadata": {
    "execution": {
     "iopub.execute_input": "2023-08-22T12:41:28.511200Z",
     "iopub.status.busy": "2023-08-22T12:41:28.510758Z",
     "iopub.status.idle": "2023-08-22T12:41:28.683950Z",
     "shell.execute_reply": "2023-08-22T12:41:28.682686Z"
    },
    "papermill": {
     "duration": 0.186481,
     "end_time": "2023-08-22T12:41:28.686859",
     "exception": false,
     "start_time": "2023-08-22T12:41:28.500378",
     "status": "completed"
    },
    "tags": []
   },
   "outputs": [],
   "source": [
    "# importing test and train data\n",
    "train_data = pd.read_csv(\"/kaggle/input/spaceship-titanic/train.csv\")\n",
    "test_data = pd.read_csv(\"/kaggle/input/spaceship-titanic/test.csv\")"
   ]
  },
  {
   "cell_type": "code",
   "execution_count": 3,
   "id": "a29f16b1",
   "metadata": {
    "execution": {
     "iopub.execute_input": "2023-08-22T12:41:28.706771Z",
     "iopub.status.busy": "2023-08-22T12:41:28.705896Z",
     "iopub.status.idle": "2023-08-22T12:41:28.738123Z",
     "shell.execute_reply": "2023-08-22T12:41:28.736937Z"
    },
    "papermill": {
     "duration": 0.044919,
     "end_time": "2023-08-22T12:41:28.740619",
     "exception": false,
     "start_time": "2023-08-22T12:41:28.695700",
     "status": "completed"
    },
    "tags": []
   },
   "outputs": [
    {
     "data": {
      "text/html": [
       "<div>\n",
       "<style scoped>\n",
       "    .dataframe tbody tr th:only-of-type {\n",
       "        vertical-align: middle;\n",
       "    }\n",
       "\n",
       "    .dataframe tbody tr th {\n",
       "        vertical-align: top;\n",
       "    }\n",
       "\n",
       "    .dataframe thead th {\n",
       "        text-align: right;\n",
       "    }\n",
       "</style>\n",
       "<table border=\"1\" class=\"dataframe\">\n",
       "  <thead>\n",
       "    <tr style=\"text-align: right;\">\n",
       "      <th></th>\n",
       "      <th>PassengerId</th>\n",
       "      <th>HomePlanet</th>\n",
       "      <th>CryoSleep</th>\n",
       "      <th>Cabin</th>\n",
       "      <th>Destination</th>\n",
       "      <th>Age</th>\n",
       "      <th>VIP</th>\n",
       "      <th>RoomService</th>\n",
       "      <th>FoodCourt</th>\n",
       "      <th>ShoppingMall</th>\n",
       "      <th>Spa</th>\n",
       "      <th>VRDeck</th>\n",
       "      <th>Name</th>\n",
       "      <th>Transported</th>\n",
       "    </tr>\n",
       "  </thead>\n",
       "  <tbody>\n",
       "    <tr>\n",
       "      <th>0</th>\n",
       "      <td>0001_01</td>\n",
       "      <td>Europa</td>\n",
       "      <td>False</td>\n",
       "      <td>B/0/P</td>\n",
       "      <td>TRAPPIST-1e</td>\n",
       "      <td>39.0</td>\n",
       "      <td>False</td>\n",
       "      <td>0.0</td>\n",
       "      <td>0.0</td>\n",
       "      <td>0.0</td>\n",
       "      <td>0.0</td>\n",
       "      <td>0.0</td>\n",
       "      <td>Maham Ofracculy</td>\n",
       "      <td>False</td>\n",
       "    </tr>\n",
       "    <tr>\n",
       "      <th>1</th>\n",
       "      <td>0002_01</td>\n",
       "      <td>Earth</td>\n",
       "      <td>False</td>\n",
       "      <td>F/0/S</td>\n",
       "      <td>TRAPPIST-1e</td>\n",
       "      <td>24.0</td>\n",
       "      <td>False</td>\n",
       "      <td>109.0</td>\n",
       "      <td>9.0</td>\n",
       "      <td>25.0</td>\n",
       "      <td>549.0</td>\n",
       "      <td>44.0</td>\n",
       "      <td>Juanna Vines</td>\n",
       "      <td>True</td>\n",
       "    </tr>\n",
       "    <tr>\n",
       "      <th>2</th>\n",
       "      <td>0003_01</td>\n",
       "      <td>Europa</td>\n",
       "      <td>False</td>\n",
       "      <td>A/0/S</td>\n",
       "      <td>TRAPPIST-1e</td>\n",
       "      <td>58.0</td>\n",
       "      <td>True</td>\n",
       "      <td>43.0</td>\n",
       "      <td>3576.0</td>\n",
       "      <td>0.0</td>\n",
       "      <td>6715.0</td>\n",
       "      <td>49.0</td>\n",
       "      <td>Altark Susent</td>\n",
       "      <td>False</td>\n",
       "    </tr>\n",
       "    <tr>\n",
       "      <th>3</th>\n",
       "      <td>0003_02</td>\n",
       "      <td>Europa</td>\n",
       "      <td>False</td>\n",
       "      <td>A/0/S</td>\n",
       "      <td>TRAPPIST-1e</td>\n",
       "      <td>33.0</td>\n",
       "      <td>False</td>\n",
       "      <td>0.0</td>\n",
       "      <td>1283.0</td>\n",
       "      <td>371.0</td>\n",
       "      <td>3329.0</td>\n",
       "      <td>193.0</td>\n",
       "      <td>Solam Susent</td>\n",
       "      <td>False</td>\n",
       "    </tr>\n",
       "    <tr>\n",
       "      <th>4</th>\n",
       "      <td>0004_01</td>\n",
       "      <td>Earth</td>\n",
       "      <td>False</td>\n",
       "      <td>F/1/S</td>\n",
       "      <td>TRAPPIST-1e</td>\n",
       "      <td>16.0</td>\n",
       "      <td>False</td>\n",
       "      <td>303.0</td>\n",
       "      <td>70.0</td>\n",
       "      <td>151.0</td>\n",
       "      <td>565.0</td>\n",
       "      <td>2.0</td>\n",
       "      <td>Willy Santantines</td>\n",
       "      <td>True</td>\n",
       "    </tr>\n",
       "  </tbody>\n",
       "</table>\n",
       "</div>"
      ],
      "text/plain": [
       "  PassengerId HomePlanet CryoSleep  Cabin  Destination   Age    VIP  \\\n",
       "0     0001_01     Europa     False  B/0/P  TRAPPIST-1e  39.0  False   \n",
       "1     0002_01      Earth     False  F/0/S  TRAPPIST-1e  24.0  False   \n",
       "2     0003_01     Europa     False  A/0/S  TRAPPIST-1e  58.0   True   \n",
       "3     0003_02     Europa     False  A/0/S  TRAPPIST-1e  33.0  False   \n",
       "4     0004_01      Earth     False  F/1/S  TRAPPIST-1e  16.0  False   \n",
       "\n",
       "   RoomService  FoodCourt  ShoppingMall     Spa  VRDeck               Name  \\\n",
       "0          0.0        0.0           0.0     0.0     0.0    Maham Ofracculy   \n",
       "1        109.0        9.0          25.0   549.0    44.0       Juanna Vines   \n",
       "2         43.0     3576.0           0.0  6715.0    49.0      Altark Susent   \n",
       "3          0.0     1283.0         371.0  3329.0   193.0       Solam Susent   \n",
       "4        303.0       70.0         151.0   565.0     2.0  Willy Santantines   \n",
       "\n",
       "   Transported  \n",
       "0        False  \n",
       "1         True  \n",
       "2        False  \n",
       "3        False  \n",
       "4         True  "
      ]
     },
     "execution_count": 3,
     "metadata": {},
     "output_type": "execute_result"
    }
   ],
   "source": [
    "train_data.head()"
   ]
  },
  {
   "cell_type": "code",
   "execution_count": 4,
   "id": "8f00ab75",
   "metadata": {
    "execution": {
     "iopub.execute_input": "2023-08-22T12:41:28.760784Z",
     "iopub.status.busy": "2023-08-22T12:41:28.760310Z",
     "iopub.status.idle": "2023-08-22T12:41:28.780572Z",
     "shell.execute_reply": "2023-08-22T12:41:28.779480Z"
    },
    "papermill": {
     "duration": 0.033491,
     "end_time": "2023-08-22T12:41:28.783271",
     "exception": false,
     "start_time": "2023-08-22T12:41:28.749780",
     "status": "completed"
    },
    "tags": []
   },
   "outputs": [
    {
     "data": {
      "text/html": [
       "<div>\n",
       "<style scoped>\n",
       "    .dataframe tbody tr th:only-of-type {\n",
       "        vertical-align: middle;\n",
       "    }\n",
       "\n",
       "    .dataframe tbody tr th {\n",
       "        vertical-align: top;\n",
       "    }\n",
       "\n",
       "    .dataframe thead th {\n",
       "        text-align: right;\n",
       "    }\n",
       "</style>\n",
       "<table border=\"1\" class=\"dataframe\">\n",
       "  <thead>\n",
       "    <tr style=\"text-align: right;\">\n",
       "      <th></th>\n",
       "      <th>PassengerId</th>\n",
       "      <th>HomePlanet</th>\n",
       "      <th>CryoSleep</th>\n",
       "      <th>Cabin</th>\n",
       "      <th>Destination</th>\n",
       "      <th>Age</th>\n",
       "      <th>VIP</th>\n",
       "      <th>RoomService</th>\n",
       "      <th>FoodCourt</th>\n",
       "      <th>ShoppingMall</th>\n",
       "      <th>Spa</th>\n",
       "      <th>VRDeck</th>\n",
       "      <th>Name</th>\n",
       "    </tr>\n",
       "  </thead>\n",
       "  <tbody>\n",
       "    <tr>\n",
       "      <th>0</th>\n",
       "      <td>0013_01</td>\n",
       "      <td>Earth</td>\n",
       "      <td>True</td>\n",
       "      <td>G/3/S</td>\n",
       "      <td>TRAPPIST-1e</td>\n",
       "      <td>27.0</td>\n",
       "      <td>False</td>\n",
       "      <td>0.0</td>\n",
       "      <td>0.0</td>\n",
       "      <td>0.0</td>\n",
       "      <td>0.0</td>\n",
       "      <td>0.0</td>\n",
       "      <td>Nelly Carsoning</td>\n",
       "    </tr>\n",
       "    <tr>\n",
       "      <th>1</th>\n",
       "      <td>0018_01</td>\n",
       "      <td>Earth</td>\n",
       "      <td>False</td>\n",
       "      <td>F/4/S</td>\n",
       "      <td>TRAPPIST-1e</td>\n",
       "      <td>19.0</td>\n",
       "      <td>False</td>\n",
       "      <td>0.0</td>\n",
       "      <td>9.0</td>\n",
       "      <td>0.0</td>\n",
       "      <td>2823.0</td>\n",
       "      <td>0.0</td>\n",
       "      <td>Lerome Peckers</td>\n",
       "    </tr>\n",
       "    <tr>\n",
       "      <th>2</th>\n",
       "      <td>0019_01</td>\n",
       "      <td>Europa</td>\n",
       "      <td>True</td>\n",
       "      <td>C/0/S</td>\n",
       "      <td>55 Cancri e</td>\n",
       "      <td>31.0</td>\n",
       "      <td>False</td>\n",
       "      <td>0.0</td>\n",
       "      <td>0.0</td>\n",
       "      <td>0.0</td>\n",
       "      <td>0.0</td>\n",
       "      <td>0.0</td>\n",
       "      <td>Sabih Unhearfus</td>\n",
       "    </tr>\n",
       "    <tr>\n",
       "      <th>3</th>\n",
       "      <td>0021_01</td>\n",
       "      <td>Europa</td>\n",
       "      <td>False</td>\n",
       "      <td>C/1/S</td>\n",
       "      <td>TRAPPIST-1e</td>\n",
       "      <td>38.0</td>\n",
       "      <td>False</td>\n",
       "      <td>0.0</td>\n",
       "      <td>6652.0</td>\n",
       "      <td>0.0</td>\n",
       "      <td>181.0</td>\n",
       "      <td>585.0</td>\n",
       "      <td>Meratz Caltilter</td>\n",
       "    </tr>\n",
       "    <tr>\n",
       "      <th>4</th>\n",
       "      <td>0023_01</td>\n",
       "      <td>Earth</td>\n",
       "      <td>False</td>\n",
       "      <td>F/5/S</td>\n",
       "      <td>TRAPPIST-1e</td>\n",
       "      <td>20.0</td>\n",
       "      <td>False</td>\n",
       "      <td>10.0</td>\n",
       "      <td>0.0</td>\n",
       "      <td>635.0</td>\n",
       "      <td>0.0</td>\n",
       "      <td>0.0</td>\n",
       "      <td>Brence Harperez</td>\n",
       "    </tr>\n",
       "  </tbody>\n",
       "</table>\n",
       "</div>"
      ],
      "text/plain": [
       "  PassengerId HomePlanet CryoSleep  Cabin  Destination   Age    VIP  \\\n",
       "0     0013_01      Earth      True  G/3/S  TRAPPIST-1e  27.0  False   \n",
       "1     0018_01      Earth     False  F/4/S  TRAPPIST-1e  19.0  False   \n",
       "2     0019_01     Europa      True  C/0/S  55 Cancri e  31.0  False   \n",
       "3     0021_01     Europa     False  C/1/S  TRAPPIST-1e  38.0  False   \n",
       "4     0023_01      Earth     False  F/5/S  TRAPPIST-1e  20.0  False   \n",
       "\n",
       "   RoomService  FoodCourt  ShoppingMall     Spa  VRDeck              Name  \n",
       "0          0.0        0.0           0.0     0.0     0.0   Nelly Carsoning  \n",
       "1          0.0        9.0           0.0  2823.0     0.0    Lerome Peckers  \n",
       "2          0.0        0.0           0.0     0.0     0.0   Sabih Unhearfus  \n",
       "3          0.0     6652.0           0.0   181.0   585.0  Meratz Caltilter  \n",
       "4         10.0        0.0         635.0     0.0     0.0   Brence Harperez  "
      ]
     },
     "execution_count": 4,
     "metadata": {},
     "output_type": "execute_result"
    }
   ],
   "source": [
    "test_data.head()"
   ]
  },
  {
   "cell_type": "markdown",
   "id": "f39c6bff",
   "metadata": {
    "papermill": {
     "duration": 0.008767,
     "end_time": "2023-08-22T12:41:28.801328",
     "exception": false,
     "start_time": "2023-08-22T12:41:28.792561",
     "status": "completed"
    },
    "tags": []
   },
   "source": [
    "I'll split cabin in three new columns, since it will be easier to train the model on those individual data."
   ]
  },
  {
   "cell_type": "code",
   "execution_count": 5,
   "id": "77052544",
   "metadata": {
    "execution": {
     "iopub.execute_input": "2023-08-22T12:41:28.821681Z",
     "iopub.status.busy": "2023-08-22T12:41:28.821170Z",
     "iopub.status.idle": "2023-08-22T12:41:28.882811Z",
     "shell.execute_reply": "2023-08-22T12:41:28.881699Z"
    },
    "papermill": {
     "duration": 0.074676,
     "end_time": "2023-08-22T12:41:28.885223",
     "exception": false,
     "start_time": "2023-08-22T12:41:28.810547",
     "status": "completed"
    },
    "tags": []
   },
   "outputs": [
    {
     "data": {
      "text/html": [
       "<div>\n",
       "<style scoped>\n",
       "    .dataframe tbody tr th:only-of-type {\n",
       "        vertical-align: middle;\n",
       "    }\n",
       "\n",
       "    .dataframe tbody tr th {\n",
       "        vertical-align: top;\n",
       "    }\n",
       "\n",
       "    .dataframe thead th {\n",
       "        text-align: right;\n",
       "    }\n",
       "</style>\n",
       "<table border=\"1\" class=\"dataframe\">\n",
       "  <thead>\n",
       "    <tr style=\"text-align: right;\">\n",
       "      <th></th>\n",
       "      <th>PassengerId</th>\n",
       "      <th>HomePlanet</th>\n",
       "      <th>CryoSleep</th>\n",
       "      <th>Destination</th>\n",
       "      <th>Age</th>\n",
       "      <th>VIP</th>\n",
       "      <th>RoomService</th>\n",
       "      <th>FoodCourt</th>\n",
       "      <th>ShoppingMall</th>\n",
       "      <th>Spa</th>\n",
       "      <th>VRDeck</th>\n",
       "      <th>Name</th>\n",
       "      <th>Transported</th>\n",
       "      <th>Deck</th>\n",
       "      <th>Cabin_num</th>\n",
       "      <th>Side</th>\n",
       "    </tr>\n",
       "  </thead>\n",
       "  <tbody>\n",
       "    <tr>\n",
       "      <th>0</th>\n",
       "      <td>0001_01</td>\n",
       "      <td>Europa</td>\n",
       "      <td>False</td>\n",
       "      <td>TRAPPIST-1e</td>\n",
       "      <td>39.0</td>\n",
       "      <td>False</td>\n",
       "      <td>0.0</td>\n",
       "      <td>0.0</td>\n",
       "      <td>0.0</td>\n",
       "      <td>0.0</td>\n",
       "      <td>0.0</td>\n",
       "      <td>Maham Ofracculy</td>\n",
       "      <td>False</td>\n",
       "      <td>B</td>\n",
       "      <td>0</td>\n",
       "      <td>P</td>\n",
       "    </tr>\n",
       "    <tr>\n",
       "      <th>1</th>\n",
       "      <td>0002_01</td>\n",
       "      <td>Earth</td>\n",
       "      <td>False</td>\n",
       "      <td>TRAPPIST-1e</td>\n",
       "      <td>24.0</td>\n",
       "      <td>False</td>\n",
       "      <td>109.0</td>\n",
       "      <td>9.0</td>\n",
       "      <td>25.0</td>\n",
       "      <td>549.0</td>\n",
       "      <td>44.0</td>\n",
       "      <td>Juanna Vines</td>\n",
       "      <td>True</td>\n",
       "      <td>F</td>\n",
       "      <td>0</td>\n",
       "      <td>S</td>\n",
       "    </tr>\n",
       "    <tr>\n",
       "      <th>2</th>\n",
       "      <td>0003_01</td>\n",
       "      <td>Europa</td>\n",
       "      <td>False</td>\n",
       "      <td>TRAPPIST-1e</td>\n",
       "      <td>58.0</td>\n",
       "      <td>True</td>\n",
       "      <td>43.0</td>\n",
       "      <td>3576.0</td>\n",
       "      <td>0.0</td>\n",
       "      <td>6715.0</td>\n",
       "      <td>49.0</td>\n",
       "      <td>Altark Susent</td>\n",
       "      <td>False</td>\n",
       "      <td>A</td>\n",
       "      <td>0</td>\n",
       "      <td>S</td>\n",
       "    </tr>\n",
       "    <tr>\n",
       "      <th>3</th>\n",
       "      <td>0003_02</td>\n",
       "      <td>Europa</td>\n",
       "      <td>False</td>\n",
       "      <td>TRAPPIST-1e</td>\n",
       "      <td>33.0</td>\n",
       "      <td>False</td>\n",
       "      <td>0.0</td>\n",
       "      <td>1283.0</td>\n",
       "      <td>371.0</td>\n",
       "      <td>3329.0</td>\n",
       "      <td>193.0</td>\n",
       "      <td>Solam Susent</td>\n",
       "      <td>False</td>\n",
       "      <td>A</td>\n",
       "      <td>0</td>\n",
       "      <td>S</td>\n",
       "    </tr>\n",
       "    <tr>\n",
       "      <th>4</th>\n",
       "      <td>0004_01</td>\n",
       "      <td>Earth</td>\n",
       "      <td>False</td>\n",
       "      <td>TRAPPIST-1e</td>\n",
       "      <td>16.0</td>\n",
       "      <td>False</td>\n",
       "      <td>303.0</td>\n",
       "      <td>70.0</td>\n",
       "      <td>151.0</td>\n",
       "      <td>565.0</td>\n",
       "      <td>2.0</td>\n",
       "      <td>Willy Santantines</td>\n",
       "      <td>True</td>\n",
       "      <td>F</td>\n",
       "      <td>1</td>\n",
       "      <td>S</td>\n",
       "    </tr>\n",
       "  </tbody>\n",
       "</table>\n",
       "</div>"
      ],
      "text/plain": [
       "  PassengerId HomePlanet CryoSleep  Destination   Age    VIP  RoomService  \\\n",
       "0     0001_01     Europa     False  TRAPPIST-1e  39.0  False          0.0   \n",
       "1     0002_01      Earth     False  TRAPPIST-1e  24.0  False        109.0   \n",
       "2     0003_01     Europa     False  TRAPPIST-1e  58.0   True         43.0   \n",
       "3     0003_02     Europa     False  TRAPPIST-1e  33.0  False          0.0   \n",
       "4     0004_01      Earth     False  TRAPPIST-1e  16.0  False        303.0   \n",
       "\n",
       "   FoodCourt  ShoppingMall     Spa  VRDeck               Name  Transported  \\\n",
       "0        0.0           0.0     0.0     0.0    Maham Ofracculy        False   \n",
       "1        9.0          25.0   549.0    44.0       Juanna Vines         True   \n",
       "2     3576.0           0.0  6715.0    49.0      Altark Susent        False   \n",
       "3     1283.0         371.0  3329.0   193.0       Solam Susent        False   \n",
       "4       70.0         151.0   565.0     2.0  Willy Santantines         True   \n",
       "\n",
       "  Deck Cabin_num Side  \n",
       "0    B         0    P  \n",
       "1    F         0    S  \n",
       "2    A         0    S  \n",
       "3    A         0    S  \n",
       "4    F         1    S  "
      ]
     },
     "execution_count": 5,
     "metadata": {},
     "output_type": "execute_result"
    }
   ],
   "source": [
    "# Splitting into three new columns\n",
    "train_data[[\"Deck\", \"Cabin_num\", \"Side\"]] = train_data[\"Cabin\"].str.split(\"/\", expand=True)\n",
    "test_data[[\"Deck\", \"Cabin_num\", \"Side\"]] = test_data[\"Cabin\"].str.split(\"/\", expand=True)\n",
    "\n",
    "# Removing the original Cabin column\n",
    "train_data = train_data.drop('Cabin', axis=1)\n",
    "test_data = test_data.drop('Cabin', axis=1)\n",
    "\n",
    "train_data.head()"
   ]
  },
  {
   "cell_type": "code",
   "execution_count": 6,
   "id": "8fd9d4d9",
   "metadata": {
    "execution": {
     "iopub.execute_input": "2023-08-22T12:41:28.906182Z",
     "iopub.status.busy": "2023-08-22T12:41:28.905742Z",
     "iopub.status.idle": "2023-08-22T12:41:28.925599Z",
     "shell.execute_reply": "2023-08-22T12:41:28.924727Z"
    },
    "papermill": {
     "duration": 0.032978,
     "end_time": "2023-08-22T12:41:28.927755",
     "exception": false,
     "start_time": "2023-08-22T12:41:28.894777",
     "status": "completed"
    },
    "tags": []
   },
   "outputs": [
    {
     "data": {
      "text/html": [
       "<div>\n",
       "<style scoped>\n",
       "    .dataframe tbody tr th:only-of-type {\n",
       "        vertical-align: middle;\n",
       "    }\n",
       "\n",
       "    .dataframe tbody tr th {\n",
       "        vertical-align: top;\n",
       "    }\n",
       "\n",
       "    .dataframe thead th {\n",
       "        text-align: right;\n",
       "    }\n",
       "</style>\n",
       "<table border=\"1\" class=\"dataframe\">\n",
       "  <thead>\n",
       "    <tr style=\"text-align: right;\">\n",
       "      <th></th>\n",
       "      <th>PassengerId</th>\n",
       "      <th>HomePlanet</th>\n",
       "      <th>CryoSleep</th>\n",
       "      <th>Destination</th>\n",
       "      <th>Age</th>\n",
       "      <th>VIP</th>\n",
       "      <th>RoomService</th>\n",
       "      <th>FoodCourt</th>\n",
       "      <th>ShoppingMall</th>\n",
       "      <th>Spa</th>\n",
       "      <th>VRDeck</th>\n",
       "      <th>Name</th>\n",
       "      <th>Deck</th>\n",
       "      <th>Cabin_num</th>\n",
       "      <th>Side</th>\n",
       "    </tr>\n",
       "  </thead>\n",
       "  <tbody>\n",
       "    <tr>\n",
       "      <th>0</th>\n",
       "      <td>0013_01</td>\n",
       "      <td>Earth</td>\n",
       "      <td>True</td>\n",
       "      <td>TRAPPIST-1e</td>\n",
       "      <td>27.0</td>\n",
       "      <td>False</td>\n",
       "      <td>0.0</td>\n",
       "      <td>0.0</td>\n",
       "      <td>0.0</td>\n",
       "      <td>0.0</td>\n",
       "      <td>0.0</td>\n",
       "      <td>Nelly Carsoning</td>\n",
       "      <td>G</td>\n",
       "      <td>3</td>\n",
       "      <td>S</td>\n",
       "    </tr>\n",
       "    <tr>\n",
       "      <th>1</th>\n",
       "      <td>0018_01</td>\n",
       "      <td>Earth</td>\n",
       "      <td>False</td>\n",
       "      <td>TRAPPIST-1e</td>\n",
       "      <td>19.0</td>\n",
       "      <td>False</td>\n",
       "      <td>0.0</td>\n",
       "      <td>9.0</td>\n",
       "      <td>0.0</td>\n",
       "      <td>2823.0</td>\n",
       "      <td>0.0</td>\n",
       "      <td>Lerome Peckers</td>\n",
       "      <td>F</td>\n",
       "      <td>4</td>\n",
       "      <td>S</td>\n",
       "    </tr>\n",
       "    <tr>\n",
       "      <th>2</th>\n",
       "      <td>0019_01</td>\n",
       "      <td>Europa</td>\n",
       "      <td>True</td>\n",
       "      <td>55 Cancri e</td>\n",
       "      <td>31.0</td>\n",
       "      <td>False</td>\n",
       "      <td>0.0</td>\n",
       "      <td>0.0</td>\n",
       "      <td>0.0</td>\n",
       "      <td>0.0</td>\n",
       "      <td>0.0</td>\n",
       "      <td>Sabih Unhearfus</td>\n",
       "      <td>C</td>\n",
       "      <td>0</td>\n",
       "      <td>S</td>\n",
       "    </tr>\n",
       "    <tr>\n",
       "      <th>3</th>\n",
       "      <td>0021_01</td>\n",
       "      <td>Europa</td>\n",
       "      <td>False</td>\n",
       "      <td>TRAPPIST-1e</td>\n",
       "      <td>38.0</td>\n",
       "      <td>False</td>\n",
       "      <td>0.0</td>\n",
       "      <td>6652.0</td>\n",
       "      <td>0.0</td>\n",
       "      <td>181.0</td>\n",
       "      <td>585.0</td>\n",
       "      <td>Meratz Caltilter</td>\n",
       "      <td>C</td>\n",
       "      <td>1</td>\n",
       "      <td>S</td>\n",
       "    </tr>\n",
       "    <tr>\n",
       "      <th>4</th>\n",
       "      <td>0023_01</td>\n",
       "      <td>Earth</td>\n",
       "      <td>False</td>\n",
       "      <td>TRAPPIST-1e</td>\n",
       "      <td>20.0</td>\n",
       "      <td>False</td>\n",
       "      <td>10.0</td>\n",
       "      <td>0.0</td>\n",
       "      <td>635.0</td>\n",
       "      <td>0.0</td>\n",
       "      <td>0.0</td>\n",
       "      <td>Brence Harperez</td>\n",
       "      <td>F</td>\n",
       "      <td>5</td>\n",
       "      <td>S</td>\n",
       "    </tr>\n",
       "  </tbody>\n",
       "</table>\n",
       "</div>"
      ],
      "text/plain": [
       "  PassengerId HomePlanet CryoSleep  Destination   Age    VIP  RoomService  \\\n",
       "0     0013_01      Earth      True  TRAPPIST-1e  27.0  False          0.0   \n",
       "1     0018_01      Earth     False  TRAPPIST-1e  19.0  False          0.0   \n",
       "2     0019_01     Europa      True  55 Cancri e  31.0  False          0.0   \n",
       "3     0021_01     Europa     False  TRAPPIST-1e  38.0  False          0.0   \n",
       "4     0023_01      Earth     False  TRAPPIST-1e  20.0  False         10.0   \n",
       "\n",
       "   FoodCourt  ShoppingMall     Spa  VRDeck              Name Deck Cabin_num  \\\n",
       "0        0.0           0.0     0.0     0.0   Nelly Carsoning    G         3   \n",
       "1        9.0           0.0  2823.0     0.0    Lerome Peckers    F         4   \n",
       "2        0.0           0.0     0.0     0.0   Sabih Unhearfus    C         0   \n",
       "3     6652.0           0.0   181.0   585.0  Meratz Caltilter    C         1   \n",
       "4        0.0         635.0     0.0     0.0   Brence Harperez    F         5   \n",
       "\n",
       "  Side  \n",
       "0    S  \n",
       "1    S  \n",
       "2    S  \n",
       "3    S  \n",
       "4    S  "
      ]
     },
     "execution_count": 6,
     "metadata": {},
     "output_type": "execute_result"
    }
   ],
   "source": [
    "test_data.head()"
   ]
  },
  {
   "cell_type": "markdown",
   "id": "55a3baa8",
   "metadata": {
    "papermill": {
     "duration": 0.009481,
     "end_time": "2023-08-22T12:41:28.947170",
     "exception": false,
     "start_time": "2023-08-22T12:41:28.937689",
     "status": "completed"
    },
    "tags": []
   },
   "source": [
    "I'll split the PassengerId as well, considering that the first 4 digits represent a group number. This might help us identify which groups have higher non-transported rates."
   ]
  },
  {
   "cell_type": "code",
   "execution_count": 7,
   "id": "f83491c9",
   "metadata": {
    "execution": {
     "iopub.execute_input": "2023-08-22T12:41:28.968880Z",
     "iopub.status.busy": "2023-08-22T12:41:28.968439Z",
     "iopub.status.idle": "2023-08-22T12:41:28.993474Z",
     "shell.execute_reply": "2023-08-22T12:41:28.992176Z"
    },
    "papermill": {
     "duration": 0.039177,
     "end_time": "2023-08-22T12:41:28.996082",
     "exception": false,
     "start_time": "2023-08-22T12:41:28.956905",
     "status": "completed"
    },
    "tags": []
   },
   "outputs": [],
   "source": [
    "# Splitting into two new columns\n",
    "train_data[[\"GroupId\", \"PsngrId\"]] = train_data[\"PassengerId\"].str.split(\"_\", expand=True)\n",
    "\n",
    "train_data.head()\n",
    "\n",
    "# Convert the object column to integers\n",
    "train_data['GroupId'] = train_data['GroupId'].astype(int)\n",
    "train_data['PsngrId'] = train_data['PsngrId'].astype(int)\n",
    "train_data['Cabin_num'] = train_data['GroupId'].astype(int)"
   ]
  },
  {
   "cell_type": "code",
   "execution_count": 8,
   "id": "986b15d4",
   "metadata": {
    "execution": {
     "iopub.execute_input": "2023-08-22T12:41:29.018858Z",
     "iopub.status.busy": "2023-08-22T12:41:29.018425Z",
     "iopub.status.idle": "2023-08-22T12:41:29.025838Z",
     "shell.execute_reply": "2023-08-22T12:41:29.024649Z"
    },
    "papermill": {
     "duration": 0.021907,
     "end_time": "2023-08-22T12:41:29.028259",
     "exception": false,
     "start_time": "2023-08-22T12:41:29.006352",
     "status": "completed"
    },
    "tags": []
   },
   "outputs": [
    {
     "data": {
      "text/plain": [
       "Index(['PassengerId', 'HomePlanet', 'CryoSleep', 'Destination', 'Age', 'VIP',\n",
       "       'RoomService', 'FoodCourt', 'ShoppingMall', 'Spa', 'VRDeck', 'Name',\n",
       "       'Transported', 'Deck', 'Cabin_num', 'Side', 'GroupId', 'PsngrId'],\n",
       "      dtype='object')"
      ]
     },
     "execution_count": 8,
     "metadata": {},
     "output_type": "execute_result"
    }
   ],
   "source": [
    "train_data.columns"
   ]
  },
  {
   "cell_type": "code",
   "execution_count": 9,
   "id": "42aaa51c",
   "metadata": {
    "execution": {
     "iopub.execute_input": "2023-08-22T12:41:29.050733Z",
     "iopub.status.busy": "2023-08-22T12:41:29.050264Z",
     "iopub.status.idle": "2023-08-22T12:41:29.061176Z",
     "shell.execute_reply": "2023-08-22T12:41:29.059952Z"
    },
    "papermill": {
     "duration": 0.025349,
     "end_time": "2023-08-22T12:41:29.063724",
     "exception": false,
     "start_time": "2023-08-22T12:41:29.038375",
     "status": "completed"
    },
    "tags": []
   },
   "outputs": [],
   "source": [
    "cat_col = ['HomePlanet', 'CryoSleep', 'Destination', 'VIP', 'Transported', 'Deck', 'Side']\n",
    "num_col = ['GroupId', 'PsngrId', 'Age', 'RoomService', 'FoodCourt', 'ShoppingMall', 'Spa', 'VRDeck', 'Cabin_num']\n",
    "\n",
    "cat_data = train_data[cat_col]\n",
    "num_data = train_data[num_col]"
   ]
  },
  {
   "cell_type": "markdown",
   "id": "3b539dee",
   "metadata": {
    "papermill": {
     "duration": 0.010109,
     "end_time": "2023-08-22T12:41:29.084339",
     "exception": false,
     "start_time": "2023-08-22T12:41:29.074230",
     "status": "completed"
    },
    "tags": []
   },
   "source": [
    "I'll start with the categorical data, by plotting some charts and plots and try to get some useful information"
   ]
  },
  {
   "cell_type": "code",
   "execution_count": 10,
   "id": "6a3ada0e",
   "metadata": {
    "execution": {
     "iopub.execute_input": "2023-08-22T12:41:29.106443Z",
     "iopub.status.busy": "2023-08-22T12:41:29.105978Z",
     "iopub.status.idle": "2023-08-22T12:41:29.119629Z",
     "shell.execute_reply": "2023-08-22T12:41:29.118441Z"
    },
    "papermill": {
     "duration": 0.027391,
     "end_time": "2023-08-22T12:41:29.121874",
     "exception": false,
     "start_time": "2023-08-22T12:41:29.094483",
     "status": "completed"
    },
    "tags": []
   },
   "outputs": [
    {
     "data": {
      "text/html": [
       "<div>\n",
       "<style scoped>\n",
       "    .dataframe tbody tr th:only-of-type {\n",
       "        vertical-align: middle;\n",
       "    }\n",
       "\n",
       "    .dataframe tbody tr th {\n",
       "        vertical-align: top;\n",
       "    }\n",
       "\n",
       "    .dataframe thead th {\n",
       "        text-align: right;\n",
       "    }\n",
       "</style>\n",
       "<table border=\"1\" class=\"dataframe\">\n",
       "  <thead>\n",
       "    <tr style=\"text-align: right;\">\n",
       "      <th></th>\n",
       "      <th>HomePlanet</th>\n",
       "      <th>CryoSleep</th>\n",
       "      <th>Destination</th>\n",
       "      <th>VIP</th>\n",
       "      <th>Transported</th>\n",
       "      <th>Deck</th>\n",
       "      <th>Side</th>\n",
       "    </tr>\n",
       "  </thead>\n",
       "  <tbody>\n",
       "    <tr>\n",
       "      <th>0</th>\n",
       "      <td>Europa</td>\n",
       "      <td>False</td>\n",
       "      <td>TRAPPIST-1e</td>\n",
       "      <td>False</td>\n",
       "      <td>False</td>\n",
       "      <td>B</td>\n",
       "      <td>P</td>\n",
       "    </tr>\n",
       "    <tr>\n",
       "      <th>1</th>\n",
       "      <td>Earth</td>\n",
       "      <td>False</td>\n",
       "      <td>TRAPPIST-1e</td>\n",
       "      <td>False</td>\n",
       "      <td>True</td>\n",
       "      <td>F</td>\n",
       "      <td>S</td>\n",
       "    </tr>\n",
       "    <tr>\n",
       "      <th>2</th>\n",
       "      <td>Europa</td>\n",
       "      <td>False</td>\n",
       "      <td>TRAPPIST-1e</td>\n",
       "      <td>True</td>\n",
       "      <td>False</td>\n",
       "      <td>A</td>\n",
       "      <td>S</td>\n",
       "    </tr>\n",
       "    <tr>\n",
       "      <th>3</th>\n",
       "      <td>Europa</td>\n",
       "      <td>False</td>\n",
       "      <td>TRAPPIST-1e</td>\n",
       "      <td>False</td>\n",
       "      <td>False</td>\n",
       "      <td>A</td>\n",
       "      <td>S</td>\n",
       "    </tr>\n",
       "    <tr>\n",
       "      <th>4</th>\n",
       "      <td>Earth</td>\n",
       "      <td>False</td>\n",
       "      <td>TRAPPIST-1e</td>\n",
       "      <td>False</td>\n",
       "      <td>True</td>\n",
       "      <td>F</td>\n",
       "      <td>S</td>\n",
       "    </tr>\n",
       "  </tbody>\n",
       "</table>\n",
       "</div>"
      ],
      "text/plain": [
       "  HomePlanet CryoSleep  Destination    VIP  Transported Deck Side\n",
       "0     Europa     False  TRAPPIST-1e  False        False    B    P\n",
       "1      Earth     False  TRAPPIST-1e  False         True    F    S\n",
       "2     Europa     False  TRAPPIST-1e   True        False    A    S\n",
       "3     Europa     False  TRAPPIST-1e  False        False    A    S\n",
       "4      Earth     False  TRAPPIST-1e  False         True    F    S"
      ]
     },
     "execution_count": 10,
     "metadata": {},
     "output_type": "execute_result"
    }
   ],
   "source": [
    "cat_data.head()"
   ]
  },
  {
   "cell_type": "code",
   "execution_count": 11,
   "id": "5be50a2d",
   "metadata": {
    "execution": {
     "iopub.execute_input": "2023-08-22T12:41:29.143950Z",
     "iopub.status.busy": "2023-08-22T12:41:29.143529Z",
     "iopub.status.idle": "2023-08-22T12:41:30.664814Z",
     "shell.execute_reply": "2023-08-22T12:41:30.663526Z"
    },
    "papermill": {
     "duration": 1.535533,
     "end_time": "2023-08-22T12:41:30.667535",
     "exception": false,
     "start_time": "2023-08-22T12:41:29.132002",
     "status": "completed"
    },
    "tags": []
   },
   "outputs": [
    {
     "data": {
      "image/png": "[encoded data removed]",
      "text/plain": [
       "<Figure size 640x480 with 1 Axes>"
      ]
     },
     "metadata": {},
     "output_type": "display_data"
    },
    {
     "data": {
      "image/png": "[encoded data removed]",
      "text/plain": [
       "<Figure size 640x480 with 1 Axes>"
      ]
     },
     "metadata": {},
     "output_type": "display_data"
    },
    {
     "data": {
      "image/png": "[encoded data removed]",
      "text/plain": [
       "<Figure size 640x480 with 1 Axes>"
      ]
     },
     "metadata": {},
     "output_type": "display_data"
    },
    {
     "data": {
      "image/png": "[encoded data removed]",
      "text/plain": [
       "<Figure size 640x480 with 1 Axes>"
      ]
     },
     "metadata": {},
     "output_type": "display_data"
    },
    {
     "data": {
      "image/png": "[encoded data removed]",
      "text/plain": [
       "<Figure size 640x480 with 1 Axes>"
      ]
     },
     "metadata": {},
     "output_type": "display_data"
    },
    {
     "data": {
      "image/png": "[encoded data removed]",
      "text/plain": [
       "<Figure size 640x480 with 1 Axes>"
      ]
     },
     "metadata": {},
     "output_type": "display_data"
    },
    {
     "data": {
      "image/png": "[encoded data removed]",
      "text/plain": [
       "<Figure size 640x480 with 1 Axes>"
      ]
     },
     "metadata": {},
     "output_type": "display_data"
    }
   ],
   "source": [
    "# Plotting barplots for the categorical data\n",
    "for col_name in cat_data.columns:\n",
    "    sns.barplot(x = cat_data[col_name].value_counts().index, \n",
    "                y = cat_data[col_name].value_counts())\n",
    "    plt.title(col_name)\n",
    "    plt.show()"
   ]
  },
  {
   "cell_type": "markdown",
   "id": "bec3e0d1",
   "metadata": {
    "papermill": {
     "duration": 0.011917,
     "end_time": "2023-08-22T12:41:30.692067",
     "exception": false,
     "start_time": "2023-08-22T12:41:30.680150",
     "status": "completed"
    },
    "tags": []
   },
   "source": [
    "Most of the people on board are from Earth, with the majority of them not in CryoSleep. They are primarily headed to TRAPPIST-1e and are not VIPs. The majority of people are assigned to Decks F and G. The number of people on the Port side and Starboard side appears to be evenly balanced. The number of people being transported seems to be evenly distributed."
   ]
  },
  {
   "cell_type": "code",
   "execution_count": 12,
   "id": "c4c5f598",
   "metadata": {
    "execution": {
     "iopub.execute_input": "2023-08-22T12:41:30.718900Z",
     "iopub.status.busy": "2023-08-22T12:41:30.718459Z",
     "iopub.status.idle": "2023-08-22T12:41:30.811496Z",
     "shell.execute_reply": "2023-08-22T12:41:30.809686Z"
    },
    "papermill": {
     "duration": 0.109412,
     "end_time": "2023-08-22T12:41:30.813860",
     "exception": false,
     "start_time": "2023-08-22T12:41:30.704448",
     "status": "completed"
    },
    "tags": []
   },
   "outputs": [
    {
     "name": "stdout",
     "output_type": "stream",
     "text": [
      "HomePlanet   Earth  Europa  Mars\n",
      "Transported                     \n",
      "False         2651     727   839\n",
      "True          1951    1404   920\n",
      "\n",
      "CryoSleep    False  True \n",
      "Transported              \n",
      "False         3650    554\n",
      "True          1789   2483\n",
      "\n",
      "Destination  55 Cancri e  PSO J318.5-22  TRAPPIST-1e\n",
      "Transported                                         \n",
      "False                702            395         3128\n",
      "True                1098            401         2787\n",
      "\n",
      "VIP          False  True \n",
      "Transported              \n",
      "False         4093    123\n",
      "True          4198     76\n",
      "\n",
      "Deck           A    B    C    D    E     F     G  T\n",
      "Transported                                        \n",
      "False        129  207  239  271  563  1565  1238  4\n",
      "True         127  572  508  207  313  1229  1321  1\n",
      "\n",
      "Side            P     S\n",
      "Transported            \n",
      "False        2308  1908\n",
      "True         1898  2380\n",
      "\n"
     ]
    }
   ],
   "source": [
    "# Comparing all those categorical variables in a pivot table\n",
    "print(pd.pivot_table(train_data, index = 'Transported', columns = 'HomePlanet',\n",
    "                     values = 'PassengerId', aggfunc = 'count'))\n",
    "print()\n",
    "print(pd.pivot_table(train_data, index = 'Transported', columns = 'CryoSleep',\n",
    "                     values = 'PassengerId', aggfunc = 'count'))\n",
    "print()\n",
    "print(pd.pivot_table(train_data, index = 'Transported', columns = 'Destination',\n",
    "                     values = 'PassengerId', aggfunc = 'count'))\n",
    "print()\n",
    "print(pd.pivot_table(train_data, index = 'Transported', columns = 'VIP',\n",
    "                     values = 'PassengerId', aggfunc = 'count'))\n",
    "print()\n",
    "print(pd.pivot_table(train_data, index = 'Transported', columns = 'Deck',\n",
    "                     values = 'PassengerId', aggfunc ='count'))\n",
    "print()\n",
    "print(pd.pivot_table(train_data, index = 'Transported', columns = 'Side',\n",
    "                     values = 'PassengerId', aggfunc ='count'))\n",
    "print()"
   ]
  },
  {
   "cell_type": "markdown",
   "id": "43a76ddf",
   "metadata": {
    "papermill": {
     "duration": 0.012581,
     "end_time": "2023-08-22T12:41:30.839430",
     "exception": false,
     "start_time": "2023-08-22T12:41:30.826849",
     "status": "completed"
    },
    "tags": []
   },
   "source": [
    "Based on the pivot table, it is evident that a significant majority of individuals in CryoSleep have undergone transportation, while approximately 60% of VIPs have not been transported. Additionally, a substantial number of people on the B and C decks have been transported, whereas on the F deck, the proportion of transported individuals is lower compared to those who haven't been transported. This information could hold valuable insights."
   ]
  },
  {
   "cell_type": "markdown",
   "id": "76695b0c",
   "metadata": {
    "papermill": {
     "duration": 0.011928,
     "end_time": "2023-08-22T12:41:30.864071",
     "exception": false,
     "start_time": "2023-08-22T12:41:30.852143",
     "status": "completed"
    },
    "tags": []
   },
   "source": [
    "Now, I'll try to gather some information about the numerical data too"
   ]
  },
  {
   "cell_type": "code",
   "execution_count": 13,
   "id": "55c4383d",
   "metadata": {
    "execution": {
     "iopub.execute_input": "2023-08-22T12:41:30.891479Z",
     "iopub.status.busy": "2023-08-22T12:41:30.890796Z",
     "iopub.status.idle": "2023-08-22T12:41:30.932005Z",
     "shell.execute_reply": "2023-08-22T12:41:30.931027Z"
    },
    "papermill": {
     "duration": 0.057616,
     "end_time": "2023-08-22T12:41:30.934296",
     "exception": false,
     "start_time": "2023-08-22T12:41:30.876680",
     "status": "completed"
    },
    "tags": []
   },
   "outputs": [
    {
     "data": {
      "text/html": [
       "<div>\n",
       "<style scoped>\n",
       "    .dataframe tbody tr th:only-of-type {\n",
       "        vertical-align: middle;\n",
       "    }\n",
       "\n",
       "    .dataframe tbody tr th {\n",
       "        vertical-align: top;\n",
       "    }\n",
       "\n",
       "    .dataframe thead th {\n",
       "        text-align: right;\n",
       "    }\n",
       "</style>\n",
       "<table border=\"1\" class=\"dataframe\">\n",
       "  <thead>\n",
       "    <tr style=\"text-align: right;\">\n",
       "      <th></th>\n",
       "      <th>GroupId</th>\n",
       "      <th>PsngrId</th>\n",
       "      <th>Age</th>\n",
       "      <th>RoomService</th>\n",
       "      <th>FoodCourt</th>\n",
       "      <th>ShoppingMall</th>\n",
       "      <th>Spa</th>\n",
       "      <th>VRDeck</th>\n",
       "      <th>Cabin_num</th>\n",
       "    </tr>\n",
       "  </thead>\n",
       "  <tbody>\n",
       "    <tr>\n",
       "      <th>count</th>\n",
       "      <td>8693.000000</td>\n",
       "      <td>8693.000000</td>\n",
       "      <td>8514.000000</td>\n",
       "      <td>8512.000000</td>\n",
       "      <td>8510.000000</td>\n",
       "      <td>8485.000000</td>\n",
       "      <td>8510.000000</td>\n",
       "      <td>8505.000000</td>\n",
       "      <td>8693.000000</td>\n",
       "    </tr>\n",
       "    <tr>\n",
       "      <th>mean</th>\n",
       "      <td>4633.389624</td>\n",
       "      <td>1.517773</td>\n",
       "      <td>28.827930</td>\n",
       "      <td>224.687617</td>\n",
       "      <td>458.077203</td>\n",
       "      <td>173.729169</td>\n",
       "      <td>311.138778</td>\n",
       "      <td>304.854791</td>\n",
       "      <td>4633.389624</td>\n",
       "    </tr>\n",
       "    <tr>\n",
       "      <th>std</th>\n",
       "      <td>2671.028856</td>\n",
       "      <td>1.054241</td>\n",
       "      <td>14.489021</td>\n",
       "      <td>666.717663</td>\n",
       "      <td>1611.489240</td>\n",
       "      <td>604.696458</td>\n",
       "      <td>1136.705535</td>\n",
       "      <td>1145.717189</td>\n",
       "      <td>2671.028856</td>\n",
       "    </tr>\n",
       "    <tr>\n",
       "      <th>min</th>\n",
       "      <td>1.000000</td>\n",
       "      <td>1.000000</td>\n",
       "      <td>0.000000</td>\n",
       "      <td>0.000000</td>\n",
       "      <td>0.000000</td>\n",
       "      <td>0.000000</td>\n",
       "      <td>0.000000</td>\n",
       "      <td>0.000000</td>\n",
       "      <td>1.000000</td>\n",
       "    </tr>\n",
       "    <tr>\n",
       "      <th>25%</th>\n",
       "      <td>2319.000000</td>\n",
       "      <td>1.000000</td>\n",
       "      <td>19.000000</td>\n",
       "      <td>0.000000</td>\n",
       "      <td>0.000000</td>\n",
       "      <td>0.000000</td>\n",
       "      <td>0.000000</td>\n",
       "      <td>0.000000</td>\n",
       "      <td>2319.000000</td>\n",
       "    </tr>\n",
       "    <tr>\n",
       "      <th>50%</th>\n",
       "      <td>4630.000000</td>\n",
       "      <td>1.000000</td>\n",
       "      <td>27.000000</td>\n",
       "      <td>0.000000</td>\n",
       "      <td>0.000000</td>\n",
       "      <td>0.000000</td>\n",
       "      <td>0.000000</td>\n",
       "      <td>0.000000</td>\n",
       "      <td>4630.000000</td>\n",
       "    </tr>\n",
       "    <tr>\n",
       "      <th>75%</th>\n",
       "      <td>6883.000000</td>\n",
       "      <td>2.000000</td>\n",
       "      <td>38.000000</td>\n",
       "      <td>47.000000</td>\n",
       "      <td>76.000000</td>\n",
       "      <td>27.000000</td>\n",
       "      <td>59.000000</td>\n",
       "      <td>46.000000</td>\n",
       "      <td>6883.000000</td>\n",
       "    </tr>\n",
       "    <tr>\n",
       "      <th>max</th>\n",
       "      <td>9280.000000</td>\n",
       "      <td>8.000000</td>\n",
       "      <td>79.000000</td>\n",
       "      <td>14327.000000</td>\n",
       "      <td>29813.000000</td>\n",
       "      <td>23492.000000</td>\n",
       "      <td>22408.000000</td>\n",
       "      <td>24133.000000</td>\n",
       "      <td>9280.000000</td>\n",
       "    </tr>\n",
       "  </tbody>\n",
       "</table>\n",
       "</div>"
      ],
      "text/plain": [
       "           GroupId      PsngrId          Age   RoomService     FoodCourt  \\\n",
       "count  8693.000000  8693.000000  8514.000000   8512.000000   8510.000000   \n",
       "mean   4633.389624     1.517773    28.827930    224.687617    458.077203   \n",
       "std    2671.028856     1.054241    14.489021    666.717663   1611.489240   \n",
       "min       1.000000     1.000000     0.000000      0.000000      0.000000   \n",
       "25%    2319.000000     1.000000    19.000000      0.000000      0.000000   \n",
       "50%    4630.000000     1.000000    27.000000      0.000000      0.000000   \n",
       "75%    6883.000000     2.000000    38.000000     47.000000     76.000000   \n",
       "max    9280.000000     8.000000    79.000000  14327.000000  29813.000000   \n",
       "\n",
       "       ShoppingMall           Spa        VRDeck    Cabin_num  \n",
       "count   8485.000000   8510.000000   8505.000000  8693.000000  \n",
       "mean     173.729169    311.138778    304.854791  4633.389624  \n",
       "std      604.696458   1136.705535   1145.717189  2671.028856  \n",
       "min        0.000000      0.000000      0.000000     1.000000  \n",
       "25%        0.000000      0.000000      0.000000  2319.000000  \n",
       "50%        0.000000      0.000000      0.000000  4630.000000  \n",
       "75%       27.000000     59.000000     46.000000  6883.000000  \n",
       "max    23492.000000  22408.000000  24133.000000  9280.000000  "
      ]
     },
     "execution_count": 13,
     "metadata": {},
     "output_type": "execute_result"
    }
   ],
   "source": [
    "num_data.describe()"
   ]
  },
  {
   "cell_type": "markdown",
   "id": "9194258a",
   "metadata": {
    "papermill": {
     "duration": 0.012357,
     "end_time": "2023-08-22T12:41:30.959562",
     "exception": false,
     "start_time": "2023-08-22T12:41:30.947205",
     "status": "completed"
    },
    "tags": []
   },
   "source": [
    "Trying to find if people have titles like Mrs. Doc. or something like that"
   ]
  },
  {
   "cell_type": "code",
   "execution_count": 14,
   "id": "be40d0ef",
   "metadata": {
    "execution": {
     "iopub.execute_input": "2023-08-22T12:41:30.986945Z",
     "iopub.status.busy": "2023-08-22T12:41:30.985845Z",
     "iopub.status.idle": "2023-08-22T12:41:30.998288Z",
     "shell.execute_reply": "2023-08-22T12:41:30.996861Z"
    },
    "papermill": {
     "duration": 0.028851,
     "end_time": "2023-08-22T12:41:31.000839",
     "exception": false,
     "start_time": "2023-08-22T12:41:30.971988",
     "status": "completed"
    },
    "tags": []
   },
   "outputs": [
    {
     "name": "stdout",
     "output_type": "stream",
     "text": [
      "0\n"
     ]
    }
   ],
   "source": [
    "print(train_data['Name'].str.contains('\\.', regex=True).sum())"
   ]
  },
  {
   "cell_type": "code",
   "execution_count": 15,
   "id": "d7000d0e",
   "metadata": {
    "execution": {
     "iopub.execute_input": "2023-08-22T12:41:31.028503Z",
     "iopub.status.busy": "2023-08-22T12:41:31.028085Z",
     "iopub.status.idle": "2023-08-22T12:41:31.045739Z",
     "shell.execute_reply": "2023-08-22T12:41:31.044542Z"
    },
    "papermill": {
     "duration": 0.034474,
     "end_time": "2023-08-22T12:41:31.048353",
     "exception": false,
     "start_time": "2023-08-22T12:41:31.013879",
     "status": "completed"
    },
    "tags": []
   },
   "outputs": [
    {
     "data": {
      "text/html": [
       "<div>\n",
       "<style scoped>\n",
       "    .dataframe tbody tr th:only-of-type {\n",
       "        vertical-align: middle;\n",
       "    }\n",
       "\n",
       "    .dataframe tbody tr th {\n",
       "        vertical-align: top;\n",
       "    }\n",
       "\n",
       "    .dataframe thead th {\n",
       "        text-align: right;\n",
       "    }\n",
       "</style>\n",
       "<table border=\"1\" class=\"dataframe\">\n",
       "  <thead>\n",
       "    <tr style=\"text-align: right;\">\n",
       "      <th></th>\n",
       "      <th>GroupId</th>\n",
       "      <th>PsngrId</th>\n",
       "      <th>Age</th>\n",
       "      <th>RoomService</th>\n",
       "      <th>FoodCourt</th>\n",
       "      <th>ShoppingMall</th>\n",
       "      <th>Spa</th>\n",
       "      <th>VRDeck</th>\n",
       "      <th>Cabin_num</th>\n",
       "    </tr>\n",
       "  </thead>\n",
       "  <tbody>\n",
       "    <tr>\n",
       "      <th>0</th>\n",
       "      <td>1</td>\n",
       "      <td>1</td>\n",
       "      <td>39.0</td>\n",
       "      <td>0.0</td>\n",
       "      <td>0.0</td>\n",
       "      <td>0.0</td>\n",
       "      <td>0.0</td>\n",
       "      <td>0.0</td>\n",
       "      <td>1</td>\n",
       "    </tr>\n",
       "    <tr>\n",
       "      <th>1</th>\n",
       "      <td>2</td>\n",
       "      <td>1</td>\n",
       "      <td>24.0</td>\n",
       "      <td>109.0</td>\n",
       "      <td>9.0</td>\n",
       "      <td>25.0</td>\n",
       "      <td>549.0</td>\n",
       "      <td>44.0</td>\n",
       "      <td>2</td>\n",
       "    </tr>\n",
       "    <tr>\n",
       "      <th>2</th>\n",
       "      <td>3</td>\n",
       "      <td>1</td>\n",
       "      <td>58.0</td>\n",
       "      <td>43.0</td>\n",
       "      <td>3576.0</td>\n",
       "      <td>0.0</td>\n",
       "      <td>6715.0</td>\n",
       "      <td>49.0</td>\n",
       "      <td>3</td>\n",
       "    </tr>\n",
       "    <tr>\n",
       "      <th>3</th>\n",
       "      <td>3</td>\n",
       "      <td>2</td>\n",
       "      <td>33.0</td>\n",
       "      <td>0.0</td>\n",
       "      <td>1283.0</td>\n",
       "      <td>371.0</td>\n",
       "      <td>3329.0</td>\n",
       "      <td>193.0</td>\n",
       "      <td>3</td>\n",
       "    </tr>\n",
       "    <tr>\n",
       "      <th>4</th>\n",
       "      <td>4</td>\n",
       "      <td>1</td>\n",
       "      <td>16.0</td>\n",
       "      <td>303.0</td>\n",
       "      <td>70.0</td>\n",
       "      <td>151.0</td>\n",
       "      <td>565.0</td>\n",
       "      <td>2.0</td>\n",
       "      <td>4</td>\n",
       "    </tr>\n",
       "  </tbody>\n",
       "</table>\n",
       "</div>"
      ],
      "text/plain": [
       "   GroupId  PsngrId   Age  RoomService  FoodCourt  ShoppingMall     Spa  \\\n",
       "0        1        1  39.0          0.0        0.0           0.0     0.0   \n",
       "1        2        1  24.0        109.0        9.0          25.0   549.0   \n",
       "2        3        1  58.0         43.0     3576.0           0.0  6715.0   \n",
       "3        3        2  33.0          0.0     1283.0         371.0  3329.0   \n",
       "4        4        1  16.0        303.0       70.0         151.0   565.0   \n",
       "\n",
       "   VRDeck  Cabin_num  \n",
       "0     0.0          1  \n",
       "1    44.0          2  \n",
       "2    49.0          3  \n",
       "3   193.0          3  \n",
       "4     2.0          4  "
      ]
     },
     "execution_count": 15,
     "metadata": {},
     "output_type": "execute_result"
    }
   ],
   "source": [
    "num_data.head()"
   ]
  },
  {
   "cell_type": "code",
   "execution_count": 16,
   "id": "3f306096",
   "metadata": {
    "execution": {
     "iopub.execute_input": "2023-08-22T12:41:31.077577Z",
     "iopub.status.busy": "2023-08-22T12:41:31.076729Z",
     "iopub.status.idle": "2023-08-22T12:41:33.697103Z",
     "shell.execute_reply": "2023-08-22T12:41:33.695985Z"
    },
    "papermill": {
     "duration": 2.637792,
     "end_time": "2023-08-22T12:41:33.699600",
     "exception": false,
     "start_time": "2023-08-22T12:41:31.061808",
     "status": "completed"
    },
    "tags": []
   },
   "outputs": [
    {
     "data": {
      "image/png": "[encoded data removed]",
      "text/plain": [
       "<Figure size 640x480 with 1 Axes>"
      ]
     },
     "metadata": {},
     "output_type": "display_data"
    },
    {
     "data": {
      "image/png": "[encoded data removed]",
      "text/plain": [
       "<Figure size 640x480 with 1 Axes>"
      ]
     },
     "metadata": {},
     "output_type": "display_data"
    },
    {
     "data": {
      "image/png": "[encoded data removed]",
      "text/plain": [
       "<Figure size 640x480 with 1 Axes>"
      ]
     },
     "metadata": {},
     "output_type": "display_data"
    },
    {
     "data": {
      "image/png": "[encoded data removed]",
      "text/plain": [
       "<Figure size 640x480 with 1 Axes>"
      ]
     },
     "metadata": {},
     "output_type": "display_data"
    },
    {
     "data": {
      "image/png": "[encoded data removed]",
      "text/plain": [
       "<Figure size 640x480 with 1 Axes>"
      ]
     },
     "metadata": {},
     "output_type": "display_data"
    },
    {
     "data": {
      "image/png": "[encoded data removed]",
      "text/plain": [
       "<Figure size 640x480 with 1 Axes>"
      ]
     },
     "metadata": {},
     "output_type": "display_data"
    },
    {
     "data": {
      "image/png": "[encoded data removed]",
      "text/plain": [
       "<Figure size 640x480 with 1 Axes>"
      ]
     },
     "metadata": {},
     "output_type": "display_data"
    },
    {
     "data": {
      "image/png": "[encoded data removed]",
      "text/plain": [
       "<Figure size 640x480 with 1 Axes>"
      ]
     },
     "metadata": {},
     "output_type": "display_data"
    },
    {
     "data": {
      "image/png": "[encoded data removed]",
      "text/plain": [
       "<Figure size 640x480 with 1 Axes>"
      ]
     },
     "metadata": {},
     "output_type": "display_data"
    }
   ],
   "source": [
    "for col_name in num_data.columns:\n",
    "    plt.figure()\n",
    "    num_data[col_name].plot(kind='hist', title=col_name)\n",
    "    plt.show()"
   ]
  },
  {
   "cell_type": "markdown",
   "id": "0b7c5d84",
   "metadata": {
    "execution": {
     "iopub.execute_input": "2023-08-21T20:09:48.791895Z",
     "iopub.status.busy": "2023-08-21T20:09:48.791397Z",
     "iopub.status.idle": "2023-08-21T20:09:48.799950Z",
     "shell.execute_reply": "2023-08-21T20:09:48.798244Z",
     "shell.execute_reply.started": "2023-08-21T20:09:48.791830Z"
    },
    "papermill": {
     "duration": 0.015223,
     "end_time": "2023-08-22T12:41:33.730646",
     "exception": false,
     "start_time": "2023-08-22T12:41:33.715423",
     "status": "completed"
    },
    "tags": []
   },
   "source": [
    "# Feature engineering\n",
    "Now I'll make the dataset with the features that I think will be most useful to train my model, and remove NaN values. The features that I'll be using are:\n",
    "'CryoSleep', 'VIP', 'Deck', 'Side', 'Age', 'Transported'"
   ]
  },
  {
   "cell_type": "code",
   "execution_count": 17,
   "id": "b0478678",
   "metadata": {
    "execution": {
     "iopub.execute_input": "2023-08-22T12:41:33.764558Z",
     "iopub.status.busy": "2023-08-22T12:41:33.764144Z",
     "iopub.status.idle": "2023-08-22T12:41:33.785827Z",
     "shell.execute_reply": "2023-08-22T12:41:33.784599Z"
    },
    "papermill": {
     "duration": 0.041595,
     "end_time": "2023-08-22T12:41:33.788427",
     "exception": false,
     "start_time": "2023-08-22T12:41:33.746832",
     "status": "completed"
    },
    "tags": []
   },
   "outputs": [
    {
     "data": {
      "text/html": [
       "<div>\n",
       "<style scoped>\n",
       "    .dataframe tbody tr th:only-of-type {\n",
       "        vertical-align: middle;\n",
       "    }\n",
       "\n",
       "    .dataframe tbody tr th {\n",
       "        vertical-align: top;\n",
       "    }\n",
       "\n",
       "    .dataframe thead th {\n",
       "        text-align: right;\n",
       "    }\n",
       "</style>\n",
       "<table border=\"1\" class=\"dataframe\">\n",
       "  <thead>\n",
       "    <tr style=\"text-align: right;\">\n",
       "      <th></th>\n",
       "      <th>CryoSleep</th>\n",
       "      <th>VIP</th>\n",
       "      <th>Deck</th>\n",
       "      <th>Side</th>\n",
       "      <th>Age</th>\n",
       "      <th>Transported</th>\n",
       "    </tr>\n",
       "  </thead>\n",
       "  <tbody>\n",
       "    <tr>\n",
       "      <th>0</th>\n",
       "      <td>False</td>\n",
       "      <td>False</td>\n",
       "      <td>B</td>\n",
       "      <td>P</td>\n",
       "      <td>39.0</td>\n",
       "      <td>False</td>\n",
       "    </tr>\n",
       "    <tr>\n",
       "      <th>1</th>\n",
       "      <td>False</td>\n",
       "      <td>False</td>\n",
       "      <td>F</td>\n",
       "      <td>S</td>\n",
       "      <td>24.0</td>\n",
       "      <td>True</td>\n",
       "    </tr>\n",
       "    <tr>\n",
       "      <th>2</th>\n",
       "      <td>False</td>\n",
       "      <td>True</td>\n",
       "      <td>A</td>\n",
       "      <td>S</td>\n",
       "      <td>58.0</td>\n",
       "      <td>False</td>\n",
       "    </tr>\n",
       "    <tr>\n",
       "      <th>3</th>\n",
       "      <td>False</td>\n",
       "      <td>False</td>\n",
       "      <td>A</td>\n",
       "      <td>S</td>\n",
       "      <td>33.0</td>\n",
       "      <td>False</td>\n",
       "    </tr>\n",
       "    <tr>\n",
       "      <th>4</th>\n",
       "      <td>False</td>\n",
       "      <td>False</td>\n",
       "      <td>F</td>\n",
       "      <td>S</td>\n",
       "      <td>16.0</td>\n",
       "      <td>True</td>\n",
       "    </tr>\n",
       "    <tr>\n",
       "      <th>...</th>\n",
       "      <td>...</td>\n",
       "      <td>...</td>\n",
       "      <td>...</td>\n",
       "      <td>...</td>\n",
       "      <td>...</td>\n",
       "      <td>...</td>\n",
       "    </tr>\n",
       "    <tr>\n",
       "      <th>8688</th>\n",
       "      <td>False</td>\n",
       "      <td>True</td>\n",
       "      <td>A</td>\n",
       "      <td>P</td>\n",
       "      <td>41.0</td>\n",
       "      <td>False</td>\n",
       "    </tr>\n",
       "    <tr>\n",
       "      <th>8689</th>\n",
       "      <td>True</td>\n",
       "      <td>False</td>\n",
       "      <td>G</td>\n",
       "      <td>S</td>\n",
       "      <td>18.0</td>\n",
       "      <td>False</td>\n",
       "    </tr>\n",
       "    <tr>\n",
       "      <th>8690</th>\n",
       "      <td>False</td>\n",
       "      <td>False</td>\n",
       "      <td>G</td>\n",
       "      <td>S</td>\n",
       "      <td>26.0</td>\n",
       "      <td>True</td>\n",
       "    </tr>\n",
       "    <tr>\n",
       "      <th>8691</th>\n",
       "      <td>False</td>\n",
       "      <td>False</td>\n",
       "      <td>E</td>\n",
       "      <td>S</td>\n",
       "      <td>32.0</td>\n",
       "      <td>False</td>\n",
       "    </tr>\n",
       "    <tr>\n",
       "      <th>8692</th>\n",
       "      <td>False</td>\n",
       "      <td>False</td>\n",
       "      <td>E</td>\n",
       "      <td>S</td>\n",
       "      <td>44.0</td>\n",
       "      <td>True</td>\n",
       "    </tr>\n",
       "  </tbody>\n",
       "</table>\n",
       "<p>8693 rows × 6 columns</p>\n",
       "</div>"
      ],
      "text/plain": [
       "     CryoSleep    VIP Deck Side   Age  Transported\n",
       "0        False  False    B    P  39.0        False\n",
       "1        False  False    F    S  24.0         True\n",
       "2        False   True    A    S  58.0        False\n",
       "3        False  False    A    S  33.0        False\n",
       "4        False  False    F    S  16.0         True\n",
       "...        ...    ...  ...  ...   ...          ...\n",
       "8688     False   True    A    P  41.0        False\n",
       "8689      True  False    G    S  18.0        False\n",
       "8690     False  False    G    S  26.0         True\n",
       "8691     False  False    E    S  32.0        False\n",
       "8692     False  False    E    S  44.0         True\n",
       "\n",
       "[8693 rows x 6 columns]"
      ]
     },
     "execution_count": 17,
     "metadata": {},
     "output_type": "execute_result"
    }
   ],
   "source": [
    "# Making dataframe with the selected columns\n",
    "train_data_clean = train_data[['CryoSleep', 'VIP', 'Deck', 'Side', 'Age', 'Transported']]\n",
    "test_data_clean = test_data[['CryoSleep', 'VIP', 'Deck', 'Side', 'Age']]\n",
    "train_data_clean"
   ]
  },
  {
   "cell_type": "code",
   "execution_count": 18,
   "id": "d1ced30d",
   "metadata": {
    "execution": {
     "iopub.execute_input": "2023-08-22T12:41:33.823467Z",
     "iopub.status.busy": "2023-08-22T12:41:33.823017Z",
     "iopub.status.idle": "2023-08-22T12:41:33.838795Z",
     "shell.execute_reply": "2023-08-22T12:41:33.837531Z"
    },
    "papermill": {
     "duration": 0.035832,
     "end_time": "2023-08-22T12:41:33.841035",
     "exception": false,
     "start_time": "2023-08-22T12:41:33.805203",
     "status": "completed"
    },
    "tags": []
   },
   "outputs": [
    {
     "data": {
      "text/html": [
       "<div>\n",
       "<style scoped>\n",
       "    .dataframe tbody tr th:only-of-type {\n",
       "        vertical-align: middle;\n",
       "    }\n",
       "\n",
       "    .dataframe tbody tr th {\n",
       "        vertical-align: top;\n",
       "    }\n",
       "\n",
       "    .dataframe thead th {\n",
       "        text-align: right;\n",
       "    }\n",
       "</style>\n",
       "<table border=\"1\" class=\"dataframe\">\n",
       "  <thead>\n",
       "    <tr style=\"text-align: right;\">\n",
       "      <th></th>\n",
       "      <th>CryoSleep</th>\n",
       "      <th>VIP</th>\n",
       "      <th>Deck</th>\n",
       "      <th>Side</th>\n",
       "      <th>Age</th>\n",
       "    </tr>\n",
       "  </thead>\n",
       "  <tbody>\n",
       "    <tr>\n",
       "      <th>0</th>\n",
       "      <td>True</td>\n",
       "      <td>False</td>\n",
       "      <td>G</td>\n",
       "      <td>S</td>\n",
       "      <td>27.0</td>\n",
       "    </tr>\n",
       "    <tr>\n",
       "      <th>1</th>\n",
       "      <td>False</td>\n",
       "      <td>False</td>\n",
       "      <td>F</td>\n",
       "      <td>S</td>\n",
       "      <td>19.0</td>\n",
       "    </tr>\n",
       "    <tr>\n",
       "      <th>2</th>\n",
       "      <td>True</td>\n",
       "      <td>False</td>\n",
       "      <td>C</td>\n",
       "      <td>S</td>\n",
       "      <td>31.0</td>\n",
       "    </tr>\n",
       "    <tr>\n",
       "      <th>3</th>\n",
       "      <td>False</td>\n",
       "      <td>False</td>\n",
       "      <td>C</td>\n",
       "      <td>S</td>\n",
       "      <td>38.0</td>\n",
       "    </tr>\n",
       "    <tr>\n",
       "      <th>4</th>\n",
       "      <td>False</td>\n",
       "      <td>False</td>\n",
       "      <td>F</td>\n",
       "      <td>S</td>\n",
       "      <td>20.0</td>\n",
       "    </tr>\n",
       "    <tr>\n",
       "      <th>...</th>\n",
       "      <td>...</td>\n",
       "      <td>...</td>\n",
       "      <td>...</td>\n",
       "      <td>...</td>\n",
       "      <td>...</td>\n",
       "    </tr>\n",
       "    <tr>\n",
       "      <th>4272</th>\n",
       "      <td>True</td>\n",
       "      <td>False</td>\n",
       "      <td>G</td>\n",
       "      <td>S</td>\n",
       "      <td>34.0</td>\n",
       "    </tr>\n",
       "    <tr>\n",
       "      <th>4273</th>\n",
       "      <td>False</td>\n",
       "      <td>False</td>\n",
       "      <td>NaN</td>\n",
       "      <td>NaN</td>\n",
       "      <td>42.0</td>\n",
       "    </tr>\n",
       "    <tr>\n",
       "      <th>4274</th>\n",
       "      <td>True</td>\n",
       "      <td>False</td>\n",
       "      <td>D</td>\n",
       "      <td>P</td>\n",
       "      <td>NaN</td>\n",
       "    </tr>\n",
       "    <tr>\n",
       "      <th>4275</th>\n",
       "      <td>False</td>\n",
       "      <td>False</td>\n",
       "      <td>D</td>\n",
       "      <td>P</td>\n",
       "      <td>NaN</td>\n",
       "    </tr>\n",
       "    <tr>\n",
       "      <th>4276</th>\n",
       "      <td>True</td>\n",
       "      <td>False</td>\n",
       "      <td>G</td>\n",
       "      <td>S</td>\n",
       "      <td>43.0</td>\n",
       "    </tr>\n",
       "  </tbody>\n",
       "</table>\n",
       "<p>4277 rows × 5 columns</p>\n",
       "</div>"
      ],
      "text/plain": [
       "     CryoSleep    VIP Deck Side   Age\n",
       "0         True  False    G    S  27.0\n",
       "1        False  False    F    S  19.0\n",
       "2         True  False    C    S  31.0\n",
       "3        False  False    C    S  38.0\n",
       "4        False  False    F    S  20.0\n",
       "...        ...    ...  ...  ...   ...\n",
       "4272      True  False    G    S  34.0\n",
       "4273     False  False  NaN  NaN  42.0\n",
       "4274      True  False    D    P   NaN\n",
       "4275     False  False    D    P   NaN\n",
       "4276      True  False    G    S  43.0\n",
       "\n",
       "[4277 rows x 5 columns]"
      ]
     },
     "execution_count": 18,
     "metadata": {},
     "output_type": "execute_result"
    }
   ],
   "source": [
    "test_data_clean"
   ]
  },
  {
   "cell_type": "markdown",
   "id": "a3601440",
   "metadata": {
    "papermill": {
     "duration": 0.016209,
     "end_time": "2023-08-22T12:41:33.874031",
     "exception": false,
     "start_time": "2023-08-22T12:41:33.857822",
     "status": "completed"
    },
    "tags": []
   },
   "source": [
    "Now, I'll create a pipeline to handle both NaN values and transform categorical values in numerical"
   ]
  },
  {
   "cell_type": "code",
   "execution_count": 19,
   "id": "faf4e8ba",
   "metadata": {
    "execution": {
     "iopub.execute_input": "2023-08-22T12:41:33.908795Z",
     "iopub.status.busy": "2023-08-22T12:41:33.908358Z",
     "iopub.status.idle": "2023-08-22T12:41:33.924077Z",
     "shell.execute_reply": "2023-08-22T12:41:33.922686Z"
    },
    "papermill": {
     "duration": 0.036098,
     "end_time": "2023-08-22T12:41:33.926475",
     "exception": false,
     "start_time": "2023-08-22T12:41:33.890377",
     "status": "completed"
    },
    "tags": []
   },
   "outputs": [
    {
     "data": {
      "text/plain": [
       "CryoSleep      217\n",
       "VIP            203\n",
       "Deck           199\n",
       "Side           199\n",
       "Age            179\n",
       "Transported      0\n",
       "dtype: int64"
      ]
     },
     "execution_count": 19,
     "metadata": {},
     "output_type": "execute_result"
    }
   ],
   "source": [
    "train_data_clean.isna().sum()"
   ]
  },
  {
   "cell_type": "markdown",
   "id": "75eccc18",
   "metadata": {
    "papermill": {
     "duration": 0.016023,
     "end_time": "2023-08-22T12:41:33.959357",
     "exception": false,
     "start_time": "2023-08-22T12:41:33.943334",
     "status": "completed"
    },
    "tags": []
   },
   "source": [
    "Preprocessing train_data"
   ]
  },
  {
   "cell_type": "code",
   "execution_count": 20,
   "id": "ab93271f",
   "metadata": {
    "execution": {
     "iopub.execute_input": "2023-08-22T12:41:33.994513Z",
     "iopub.status.busy": "2023-08-22T12:41:33.993903Z",
     "iopub.status.idle": "2023-08-22T12:41:34.083056Z",
     "shell.execute_reply": "2023-08-22T12:41:34.081918Z"
    },
    "papermill": {
     "duration": 0.110549,
     "end_time": "2023-08-22T12:41:34.086207",
     "exception": false,
     "start_time": "2023-08-22T12:41:33.975658",
     "status": "completed"
    },
    "tags": []
   },
   "outputs": [
    {
     "name": "stdout",
     "output_type": "stream",
     "text": [
      "Original DataFrame:\n",
      "     CryoSleep    VIP Deck Side   Age  Transported\n",
      "0        False  False    B    P  39.0        False\n",
      "1        False  False    F    S  24.0         True\n",
      "2        False   True    A    S  58.0        False\n",
      "3        False  False    A    S  33.0        False\n",
      "4        False  False    F    S  16.0         True\n",
      "...        ...    ...  ...  ...   ...          ...\n",
      "8688     False   True    A    P  41.0        False\n",
      "8689      True  False    G    S  18.0        False\n",
      "8690     False  False    G    S  26.0         True\n",
      "8691     False  False    E    S  32.0        False\n",
      "8692     False  False    E    S  44.0         True\n",
      "\n",
      "[8693 rows x 6 columns]\n",
      "\n",
      "DataFrame after preprocessing:\n",
      "       Age  CryoSleep_False  CryoSleep_True  VIP_False  VIP_True  Deck_A  \\\n",
      "0     39.0              1.0             0.0        1.0       0.0     0.0   \n",
      "1     24.0              1.0             0.0        1.0       0.0     0.0   \n",
      "2     58.0              1.0             0.0        0.0       1.0     1.0   \n",
      "3     33.0              1.0             0.0        1.0       0.0     1.0   \n",
      "4     16.0              1.0             0.0        1.0       0.0     0.0   \n",
      "...    ...              ...             ...        ...       ...     ...   \n",
      "8688  41.0              1.0             0.0        0.0       1.0     1.0   \n",
      "8689  18.0              0.0             1.0        1.0       0.0     0.0   \n",
      "8690  26.0              1.0             0.0        1.0       0.0     0.0   \n",
      "8691  32.0              1.0             0.0        1.0       0.0     0.0   \n",
      "8692  44.0              1.0             0.0        1.0       0.0     0.0   \n",
      "\n",
      "      Deck_B  Deck_C  Deck_D  Deck_E  Deck_F  Deck_G  Deck_T  Side_P  Side_S  \\\n",
      "0        1.0     0.0     0.0     0.0     0.0     0.0     0.0     1.0     0.0   \n",
      "1        0.0     0.0     0.0     0.0     1.0     0.0     0.0     0.0     1.0   \n",
      "2        0.0     0.0     0.0     0.0     0.0     0.0     0.0     0.0     1.0   \n",
      "3        0.0     0.0     0.0     0.0     0.0     0.0     0.0     0.0     1.0   \n",
      "4        0.0     0.0     0.0     0.0     1.0     0.0     0.0     0.0     1.0   \n",
      "...      ...     ...     ...     ...     ...     ...     ...     ...     ...   \n",
      "8688     0.0     0.0     0.0     0.0     0.0     0.0     0.0     1.0     0.0   \n",
      "8689     0.0     0.0     0.0     0.0     0.0     1.0     0.0     0.0     1.0   \n",
      "8690     0.0     0.0     0.0     0.0     0.0     1.0     0.0     0.0     1.0   \n",
      "8691     0.0     0.0     0.0     1.0     0.0     0.0     0.0     0.0     1.0   \n",
      "8692     0.0     0.0     0.0     1.0     0.0     0.0     0.0     0.0     1.0   \n",
      "\n",
      "      Transported  \n",
      "0           False  \n",
      "1            True  \n",
      "2           False  \n",
      "3           False  \n",
      "4            True  \n",
      "...           ...  \n",
      "8688        False  \n",
      "8689        False  \n",
      "8690         True  \n",
      "8691        False  \n",
      "8692         True  \n",
      "\n",
      "[8693 rows x 16 columns]\n"
     ]
    }
   ],
   "source": [
    "# Define the columns for numerical and categorical features\n",
    "numeric_features = train_data_clean.select_dtypes(include=['number']).columns\n",
    "categorical_features = train_data_clean.select_dtypes(include=['object']).columns\n",
    "\n",
    "# Create a preprocessing pipeline\n",
    "numeric_transformer = Pipeline(\n",
    "    steps=[\n",
    "        ('imputer', SimpleImputer(strategy='median'))\n",
    "    ]\n",
    ")\n",
    "\n",
    "categorical_transformer = Pipeline(\n",
    "    steps=[\n",
    "        ('imputer', SimpleImputer(strategy='most_frequent')),\n",
    "        ('onehot', OneHotEncoder(handle_unknown='ignore'))\n",
    "    ]\n",
    ")\n",
    "\n",
    "# Specifying which columns require which transformations\n",
    "preprocessor = ColumnTransformer(\n",
    "    transformers=[\n",
    "        ('num', numeric_transformer, ['Age']),\n",
    "        ('cat', categorical_transformer, ['CryoSleep', 'VIP', 'Deck', 'Side'])\n",
    "    ]\n",
    ")\n",
    "\n",
    "# Fit and transform the data\n",
    "train_preprocessed = preprocessor.fit_transform(train_data_clean)\n",
    "\n",
    "# Get transformed categorical feature names after one-hot encoding\n",
    "onehot_encoder = preprocessor.named_transformers_['cat'].named_steps['onehot']\n",
    "categorical_feature_names = onehot_encoder.get_feature_names_out(input_features=categorical_features)\n",
    "\n",
    "# Fit and transform the data\n",
    "train_preprocessed = preprocessor.fit_transform(train_data_clean)\n",
    "train_preprocessed = pd.DataFrame(train_preprocessed, columns=list(numeric_features) + list(categorical_feature_names))\n",
    "\n",
    "# Add the 'Transported' column to the preprocessed DataFrame\n",
    "train_preprocessed['Transported'] = train_data_clean['Transported']\n",
    "\n",
    "print(\"Original DataFrame:\")\n",
    "print(train_data_clean)\n",
    "\n",
    "print(\"\\nDataFrame after preprocessing:\")\n",
    "print(train_preprocessed)"
   ]
  },
  {
   "cell_type": "markdown",
   "id": "dea248c8",
   "metadata": {
    "papermill": {
     "duration": 0.01681,
     "end_time": "2023-08-22T12:41:34.120166",
     "exception": false,
     "start_time": "2023-08-22T12:41:34.103356",
     "status": "completed"
    },
    "tags": []
   },
   "source": [
    "Preprocessing test_data"
   ]
  },
  {
   "cell_type": "code",
   "execution_count": 21,
   "id": "9fc37dd5",
   "metadata": {
    "execution": {
     "iopub.execute_input": "2023-08-22T12:41:34.155825Z",
     "iopub.status.busy": "2023-08-22T12:41:34.155398Z",
     "iopub.status.idle": "2023-08-22T12:41:34.219693Z",
     "shell.execute_reply": "2023-08-22T12:41:34.218355Z"
    },
    "papermill": {
     "duration": 0.085254,
     "end_time": "2023-08-22T12:41:34.222336",
     "exception": false,
     "start_time": "2023-08-22T12:41:34.137082",
     "status": "completed"
    },
    "tags": []
   },
   "outputs": [
    {
     "name": "stdout",
     "output_type": "stream",
     "text": [
      "Original DataFrame:\n",
      "     CryoSleep    VIP Deck Side   Age\n",
      "0         True  False    G    S  27.0\n",
      "1        False  False    F    S  19.0\n",
      "2         True  False    C    S  31.0\n",
      "3        False  False    C    S  38.0\n",
      "4        False  False    F    S  20.0\n",
      "...        ...    ...  ...  ...   ...\n",
      "4272      True  False    G    S  34.0\n",
      "4273     False  False  NaN  NaN  42.0\n",
      "4274      True  False    D    P   NaN\n",
      "4275     False  False    D    P   NaN\n",
      "4276      True  False    G    S  43.0\n",
      "\n",
      "[4277 rows x 5 columns]\n",
      "\n",
      "DataFrame after preprocessing:\n",
      "       Age  CryoSleep_False  CryoSleep_True  VIP_False  VIP_True  Deck_A  \\\n",
      "0     27.0              0.0             1.0        1.0       0.0     0.0   \n",
      "1     19.0              1.0             0.0        1.0       0.0     0.0   \n",
      "2     31.0              0.0             1.0        1.0       0.0     0.0   \n",
      "3     38.0              1.0             0.0        1.0       0.0     0.0   \n",
      "4     20.0              1.0             0.0        1.0       0.0     0.0   \n",
      "...    ...              ...             ...        ...       ...     ...   \n",
      "4272  34.0              0.0             1.0        1.0       0.0     0.0   \n",
      "4273  42.0              1.0             0.0        1.0       0.0     0.0   \n",
      "4274  26.0              0.0             1.0        1.0       0.0     0.0   \n",
      "4275  26.0              1.0             0.0        1.0       0.0     0.0   \n",
      "4276  43.0              0.0             1.0        1.0       0.0     0.0   \n",
      "\n",
      "      Deck_B  Deck_C  Deck_D  Deck_E  Deck_F  Deck_G  Deck_T  Side_P  Side_S  \n",
      "0        0.0     0.0     0.0     0.0     0.0     1.0     0.0     0.0     1.0  \n",
      "1        0.0     0.0     0.0     0.0     1.0     0.0     0.0     0.0     1.0  \n",
      "2        0.0     1.0     0.0     0.0     0.0     0.0     0.0     0.0     1.0  \n",
      "3        0.0     1.0     0.0     0.0     0.0     0.0     0.0     0.0     1.0  \n",
      "4        0.0     0.0     0.0     0.0     1.0     0.0     0.0     0.0     1.0  \n",
      "...      ...     ...     ...     ...     ...     ...     ...     ...     ...  \n",
      "4272     0.0     0.0     0.0     0.0     0.0     1.0     0.0     0.0     1.0  \n",
      "4273     0.0     0.0     0.0     0.0     1.0     0.0     0.0     0.0     1.0  \n",
      "4274     0.0     0.0     1.0     0.0     0.0     0.0     0.0     1.0     0.0  \n",
      "4275     0.0     0.0     1.0     0.0     0.0     0.0     0.0     1.0     0.0  \n",
      "4276     0.0     0.0     0.0     0.0     0.0     1.0     0.0     0.0     1.0  \n",
      "\n",
      "[4277 rows x 15 columns]\n"
     ]
    }
   ],
   "source": [
    "# Define the columns for numerical and categorical features\n",
    "numeric_features = test_data_clean.select_dtypes(include=['number']).columns\n",
    "categorical_features = test_data_clean.select_dtypes(include=['object']).columns\n",
    "\n",
    "# Create a preprocessing pipeline\n",
    "numeric_transformer = Pipeline(\n",
    "    steps=[\n",
    "        ('imputer', SimpleImputer(strategy='median'))\n",
    "    ]\n",
    ")\n",
    "\n",
    "categorical_transformer = Pipeline(\n",
    "    steps=[\n",
    "        ('imputer', SimpleImputer(strategy='most_frequent')),\n",
    "        ('onehot', OneHotEncoder(handle_unknown='ignore'))\n",
    "    ]\n",
    ")\n",
    "\n",
    "# Specifying which columns require which transformations\n",
    "preprocessor = ColumnTransformer(\n",
    "    transformers=[\n",
    "        ('num', numeric_transformer, ['Age']),\n",
    "        ('cat', categorical_transformer, ['CryoSleep', 'VIP', 'Deck', 'Side'])\n",
    "    ]\n",
    ")\n",
    "\n",
    "# Fit and transform the data\n",
    "test_preprocessed = preprocessor.fit_transform(test_data_clean)\n",
    "\n",
    "# Get transformed categorical feature names after one-hot encoding\n",
    "onehot_encoder = preprocessor.named_transformers_['cat'].named_steps['onehot']\n",
    "categorical_feature_names = onehot_encoder.get_feature_names_out(input_features=categorical_features)\n",
    "\n",
    "# Fit and transform the data\n",
    "test_preprocessed = preprocessor.fit_transform(test_data_clean)\n",
    "test_preprocessed = pd.DataFrame(test_preprocessed, columns=list(numeric_features) + list(categorical_feature_names))\n",
    "\n",
    "print(\"Original DataFrame:\")\n",
    "print(test_data_clean)\n",
    "\n",
    "print(\"\\nDataFrame after preprocessing:\")\n",
    "print(test_preprocessed)"
   ]
  },
  {
   "cell_type": "code",
   "execution_count": 22,
   "id": "55146b06",
   "metadata": {
    "execution": {
     "iopub.execute_input": "2023-08-22T12:41:34.260567Z",
     "iopub.status.busy": "2023-08-22T12:41:34.260169Z",
     "iopub.status.idle": "2023-08-22T12:41:34.268826Z",
     "shell.execute_reply": "2023-08-22T12:41:34.267667Z"
    },
    "papermill": {
     "duration": 0.029987,
     "end_time": "2023-08-22T12:41:34.271432",
     "exception": false,
     "start_time": "2023-08-22T12:41:34.241445",
     "status": "completed"
    },
    "tags": []
   },
   "outputs": [
    {
     "data": {
      "text/plain": [
       "Age                0\n",
       "CryoSleep_False    0\n",
       "CryoSleep_True     0\n",
       "VIP_False          0\n",
       "VIP_True           0\n",
       "Deck_A             0\n",
       "Deck_B             0\n",
       "Deck_C             0\n",
       "Deck_D             0\n",
       "Deck_E             0\n",
       "Deck_F             0\n",
       "Deck_G             0\n",
       "Deck_T             0\n",
       "Side_P             0\n",
       "Side_S             0\n",
       "Transported        0\n",
       "dtype: int64"
      ]
     },
     "execution_count": 22,
     "metadata": {},
     "output_type": "execute_result"
    }
   ],
   "source": [
    "train_preprocessed.isna().sum()"
   ]
  },
  {
   "cell_type": "markdown",
   "id": "e247231b",
   "metadata": {
    "execution": {
     "iopub.execute_input": "2023-08-21T21:17:08.797850Z",
     "iopub.status.busy": "2023-08-21T21:17:08.797414Z",
     "iopub.status.idle": "2023-08-21T21:17:08.807111Z",
     "shell.execute_reply": "2023-08-21T21:17:08.804999Z",
     "shell.execute_reply.started": "2023-08-21T21:17:08.797816Z"
    },
    "papermill": {
     "duration": 0.016971,
     "end_time": "2023-08-22T12:41:34.305856",
     "exception": false,
     "start_time": "2023-08-22T12:41:34.288885",
     "status": "completed"
    },
    "tags": []
   },
   "source": [
    "# Building models\n",
    "Now, I'll make some models and test, trying to find the best results"
   ]
  },
  {
   "cell_type": "code",
   "execution_count": 23,
   "id": "887b8e1d",
   "metadata": {
    "execution": {
     "iopub.execute_input": "2023-08-22T12:41:34.343682Z",
     "iopub.status.busy": "2023-08-22T12:41:34.342513Z",
     "iopub.status.idle": "2023-08-22T12:41:39.297915Z",
     "shell.execute_reply": "2023-08-22T12:41:39.296791Z"
    },
    "papermill": {
     "duration": 4.976591,
     "end_time": "2023-08-22T12:41:39.300554",
     "exception": false,
     "start_time": "2023-08-22T12:41:34.323963",
     "status": "completed"
    },
    "tags": []
   },
   "outputs": [
    {
     "name": "stderr",
     "output_type": "stream",
     "text": [
      "/opt/conda/lib/python3.10/site-packages/sklearn/linear_model/_logistic.py:458: ConvergenceWarning: lbfgs failed to converge (status=1):\n",
      "STOP: TOTAL NO. of ITERATIONS REACHED LIMIT.\n",
      "\n",
      "Increase the number of iterations (max_iter) or scale the data as shown in:\n",
      "    https://scikit-learn.org/stable/modules/preprocessing.html\n",
      "Please also refer to the documentation for alternative solver options:\n",
      "    https://scikit-learn.org/stable/modules/linear_model.html#logistic-regression\n",
      "  n_iter_i = _check_optimize_result(\n"
     ]
    },
    {
     "name": "stdout",
     "output_type": "stream",
     "text": [
      "RandomForestClassifier accuracy: 0.7113283496262219\n",
      "LogisticRegression accuracy: 0.7228292121909143\n",
      "SVM accuracy: 0.7418056354226567\n",
      "KNN accuracy: 0.6975273145485912\n",
      "XGBClassifier accuracy: 0.7285796434732605\n"
     ]
    }
   ],
   "source": [
    "# Separate features and target variable\n",
    "X = train_preprocessed.drop(\"Transported\", axis=1)\n",
    "y = train_preprocessed[\"Transported\"]\n",
    "\n",
    "# Split the data into training and testing sets\n",
    "X_train, X_test, y_train, y_test = train_test_split(X, y, test_size=0.2, random_state=42)\n",
    "\n",
    "# Instantiating the models\n",
    "rf_model = RandomForestClassifier(random_state=0)\n",
    "rf_model.fit(X_train, y_train)\n",
    "lr_model = LogisticRegression(random_state=0)\n",
    "lr_model.fit(X_train, y_train)\n",
    "svm_model = SVC(random_state=0)\n",
    "svm_model.fit(X_train, y_train)\n",
    "knn_model = KNeighborsClassifier()\n",
    "knn_model.fit(X_train, y_train)\n",
    "xgb_model = XGBClassifier(random_state=0)\n",
    "xgb_model.fit(X_train, y_train)\n",
    "\n",
    "# Making predictions\n",
    "rf_preds = rf_model.predict(X_test)\n",
    "lr_preds = lr_model.predict(X_test)\n",
    "svm_preds = svm_model.predict(X_test)\n",
    "knn_preds = knn_model.predict(X_test)\n",
    "xgb_preds = xgb_model.predict(X_test)\n",
    "\n",
    "# Evaluating the models\n",
    "print(f'RandomForestClassifier accuracy: {accuracy_score(y_test, rf_preds)}')\n",
    "print(f'LogisticRegression accuracy: {accuracy_score(y_test, lr_preds)}')\n",
    "print(f'SVM accuracy: {accuracy_score(y_test, svm_preds)}')\n",
    "print(f'KNN accuracy: {accuracy_score(y_test, knn_preds)}')\n",
    "print(f'XGBClassifier accuracy: {accuracy_score(y_test, xgb_preds)}')"
   ]
  },
  {
   "cell_type": "markdown",
   "id": "afce5598",
   "metadata": {
    "papermill": {
     "duration": 0.016957,
     "end_time": "2023-08-22T12:41:39.335350",
     "exception": false,
     "start_time": "2023-08-22T12:41:39.318393",
     "status": "completed"
    },
    "tags": []
   },
   "source": [
    "Among the methods I ran, the Support Vector Machine (SVM) yielded better results."
   ]
  },
  {
   "cell_type": "code",
   "execution_count": 24,
   "id": "997a5c6d",
   "metadata": {
    "execution": {
     "iopub.execute_input": "2023-08-22T12:41:39.371577Z",
     "iopub.status.busy": "2023-08-22T12:41:39.371175Z",
     "iopub.status.idle": "2023-08-22T12:41:45.616183Z",
     "shell.execute_reply": "2023-08-22T12:41:45.614784Z"
    },
    "papermill": {
     "duration": 6.2661,
     "end_time": "2023-08-22T12:41:45.618712",
     "exception": false,
     "start_time": "2023-08-22T12:41:39.352612",
     "status": "completed"
    },
    "tags": []
   },
   "outputs": [
    {
     "name": "stdout",
     "output_type": "stream",
     "text": [
      "Your submission was successfully saved!\n"
     ]
    }
   ],
   "source": [
    "# Splitting train_data into train and test\n",
    "X_train = train_preprocessed.drop('Transported', axis=1)\n",
    "X_test = test_preprocessed\n",
    "y_train = train_preprocessed['Transported']\n",
    "\n",
    "model = SVC(random_state=0)\n",
    "model.fit(X_train, y_train)\n",
    "\n",
    "# Making predictions\n",
    "y_preds = model.predict(X_test)\n",
    "\n",
    "# Making output file\n",
    "output = pd.DataFrame({'PassengerId': test_data.PassengerId, 'Transported': y_preds})\n",
    "output.to_csv('submission.csv', index=False)\n",
    "print(\"Your submission was successfully saved!\")"
   ]
  },
  {
   "cell_type": "markdown",
   "id": "e5d86867",
   "metadata": {
    "execution": {
     "iopub.execute_input": "2023-08-22T12:40:55.423766Z",
     "iopub.status.busy": "2023-08-22T12:40:55.423364Z",
     "iopub.status.idle": "2023-08-22T12:40:55.431417Z",
     "shell.execute_reply": "2023-08-22T12:40:55.429934Z",
     "shell.execute_reply.started": "2023-08-22T12:40:55.423737Z"
    },
    "papermill": {
     "duration": 0.017015,
     "end_time": "2023-08-22T12:41:45.653307",
     "exception": false,
     "start_time": "2023-08-22T12:41:45.636292",
     "status": "completed"
    },
    "tags": []
   },
   "source": [
    "# Results\n",
    "Among the algorithms that I've tried, SVM produced the best results, although I might be able to further tune it for even better performance."
   ]
  }
 ],
 "metadata": {
  "kernelspec": {
   "display_name": "Python 3",
   "language": "python",
   "name": "python3"
  },
  "language_info": {
   "codemirror_mode": {
    "name": "ipython",
    "version": 3
   },
   "file_extension": ".py",
   "mimetype": "text/x-python",
   "name": "python",
   "nbconvert_exporter": "python",
   "pygments_lexer": "ipython3",
   "version": "3.10.12"
  },
  "papermill": {
   "default_parameters": {},
   "duration": 32.734578,
   "end_time": "2023-08-22T12:41:46.896574",
   "environment_variables": {},
   "exception": null,
   "input_path": "__notebook__.ipynb",
   "output_path": "__notebook__.ipynb",
   "parameters": {},
   "start_time": "2023-08-22T12:41:14.161996",
   "version": "2.4.0"
  }
 },
 "nbformat": 4,
 "nbformat_minor": 5
}
